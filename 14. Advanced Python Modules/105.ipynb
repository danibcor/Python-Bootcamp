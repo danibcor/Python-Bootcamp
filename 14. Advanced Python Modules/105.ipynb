{
 "cells": [
  {
   "cell_type": "code",
   "execution_count": 1,
   "metadata": {},
   "outputs": [],
   "source": [
    "# Aquí nos centraremos en módulos para la apertura y lectura de archivos del ordenador\n",
    "# Es el módulo Shutil y OS Modules (OS -> Operative System)"
   ]
  },
  {
   "cell_type": "code",
   "execution_count": 2,
   "metadata": {},
   "outputs": [],
   "source": [
    "# Anteriormente hemos visto cómo abrir un único archivo en Python, pero qué ocurre si tenemos que abrir cada archivo y un directorio y leer y escribir en él?\n",
    "# O archivos que están metidos en subcarpetas"
   ]
  },
  {
   "cell_type": "code",
   "execution_count": 3,
   "metadata": {},
   "outputs": [],
   "source": [
    "# Python's OS Module permite navegar facilmente por los archivos y directorios en el ordenador y realizar ciertas opciones"
   ]
  },
  {
   "cell_type": "code",
   "execution_count": 4,
   "metadata": {},
   "outputs": [
    {
     "ename": "NameError",
     "evalue": "name 'pwd' is not defined",
     "output_type": "error",
     "traceback": [
      "\u001b[0;31m---------------------------------------------------------------------------\u001b[0m",
      "\u001b[0;31mNameError\u001b[0m                                 Traceback (most recent call last)",
      "\u001b[0;32m<ipython-input-4-d698f4bb9aea>\u001b[0m in \u001b[0;36m<module>\u001b[0;34m\u001b[0m\n\u001b[1;32m      1\u001b[0m \u001b[0;31m# En Jupyter para conocer el directorio de trabajo actual utilizamos el comando pwd:\u001b[0m\u001b[0;34m\u001b[0m\u001b[0;34m\u001b[0m\u001b[0;34m\u001b[0m\u001b[0m\n\u001b[0;32m----> 2\u001b[0;31m \u001b[0mpwd\u001b[0m\u001b[0;34m\u001b[0m\u001b[0;34m\u001b[0m\u001b[0m\n\u001b[0m",
      "\u001b[0;31mNameError\u001b[0m: name 'pwd' is not defined"
     ]
    }
   ],
   "source": [
    "# En Jupyter para conocer el directorio de trabajo actual utilizamos el comando pwd:\n",
    "pwd"
   ]
  },
  {
   "cell_type": "code",
   "execution_count": 5,
   "metadata": {},
   "outputs": [
    {
     "data": {
      "text/plain": [
       "'/home/daniel/Desktop/Python'"
      ]
     },
     "execution_count": 5,
     "metadata": {},
     "output_type": "execute_result"
    }
   ],
   "source": [
    "pwd"
   ]
  },
  {
   "cell_type": "code",
   "execution_count": 6,
   "metadata": {},
   "outputs": [],
   "source": [
    "f = open(\"Prueba.txt\",'w+')\n",
    "f.write(\"Esto es una prueba de escritura en un archivo\")\n",
    "f.close()"
   ]
  },
  {
   "cell_type": "code",
   "execution_count": 7,
   "metadata": {},
   "outputs": [],
   "source": [
    "# Cómo utilizar el modulo del sistema operativo"
   ]
  },
  {
   "cell_type": "code",
   "execution_count": 9,
   "metadata": {},
   "outputs": [
    {
     "data": {
      "text/plain": [
       "'/home/daniel/Desktop/Python'"
      ]
     },
     "execution_count": 9,
     "metadata": {},
     "output_type": "execute_result"
    }
   ],
   "source": [
    "import os\n",
    "\n",
    "os.getcwd() # Devuelve el directorio de trabajo actual"
   ]
  },
  {
   "cell_type": "code",
   "execution_count": 11,
   "metadata": {},
   "outputs": [
    {
     "data": {
      "text/plain": [
       "['105.ipynb', '104.ipynb', 'Prueba.txt', '.ipynb_checkpoints']"
      ]
     },
     "execution_count": 11,
     "metadata": {},
     "output_type": "execute_result"
    }
   ],
   "source": [
    "os.listdir() # Me hace una lista de todos los elementos que tengo en el directorio de trabajo"
   ]
  },
  {
   "cell_type": "code",
   "execution_count": 13,
   "metadata": {},
   "outputs": [
    {
     "data": {
      "text/plain": [
       "['.bash_history',\n",
       " 'anaconda3',\n",
       " '.local',\n",
       " '.mozilla',\n",
       " '.bash_logout',\n",
       " '.gnupg',\n",
       " '.config',\n",
       " '.sudo_as_admin_successful',\n",
       " '.var',\n",
       " 'Downloads',\n",
       " '.condarc',\n",
       " '.vscode',\n",
       " 'Desktop',\n",
       " 'Documents',\n",
       " 'Pictures',\n",
       " 'Music',\n",
       " '.pki',\n",
       " '.ssh',\n",
       " 'Templates',\n",
       " '.fastai',\n",
       " '.conda',\n",
       " '.anaconda',\n",
       " '.profile',\n",
       " '.bashrc',\n",
       " '.jupyter',\n",
       " '.pipewire-media-session',\n",
       " '.pam_environment',\n",
       " '.gphoto',\n",
       " '.cache',\n",
       " 'Videos',\n",
       " '.ipython',\n",
       " 'Public']"
      ]
     },
     "execution_count": 13,
     "metadata": {},
     "output_type": "execute_result"
    }
   ],
   "source": [
    "# Si quiero mostrar una lista de elementos que tengo en otro directorio, pongo el directorio dentro del método\n",
    "os.listdir('/home/daniel/')"
   ]
  },
  {
   "cell_type": "code",
   "execution_count": 15,
   "metadata": {},
   "outputs": [
    {
     "data": {
      "text/plain": [
       "'/home/daniel/Prueba.txt'"
      ]
     },
     "execution_count": 15,
     "metadata": {},
     "output_type": "execute_result"
    }
   ],
   "source": [
    "# Ahora veremos como podemos mover archivos de un directorio a otro utilizando el modulo shutil\n",
    "import shutil\n",
    "\n",
    "# shutil.move(ORIGEN,DESTINO), TENER EN CUENTA que al mover archivos a ciertos directorios tenemos que tener permisos\n",
    "# en esos directorios, de lo contrario dará error\n",
    "\n",
    "shutil.move(\"Prueba.txt\",'/home/daniel/')"
   ]
  },
  {
   "cell_type": "code",
   "execution_count": 17,
   "metadata": {},
   "outputs": [
    {
     "data": {
      "text/plain": [
       "['.bash_history',\n",
       " 'anaconda3',\n",
       " '.local',\n",
       " '.mozilla',\n",
       " '.bash_logout',\n",
       " '.gnupg',\n",
       " '.config',\n",
       " '.sudo_as_admin_successful',\n",
       " '.var',\n",
       " 'Downloads',\n",
       " '.condarc',\n",
       " '.vscode',\n",
       " 'Desktop',\n",
       " 'Documents',\n",
       " 'Pictures',\n",
       " 'Music',\n",
       " '.pki',\n",
       " '.ssh',\n",
       " 'Templates',\n",
       " '.fastai',\n",
       " '.conda',\n",
       " '.anaconda',\n",
       " '.profile',\n",
       " '.bashrc',\n",
       " '.jupyter',\n",
       " '.pipewire-media-session',\n",
       " '.pam_environment',\n",
       " '.gphoto',\n",
       " '.cache',\n",
       " 'Prueba.txt',\n",
       " 'Videos',\n",
       " '.ipython',\n",
       " 'Public']"
      ]
     },
     "execution_count": 17,
     "metadata": {},
     "output_type": "execute_result"
    }
   ],
   "source": [
    "# Vamos a comprobarlo\n",
    "\n",
    "os.listdir('/home/daniel/')"
   ]
  },
  {
   "cell_type": "code",
   "execution_count": 18,
   "metadata": {},
   "outputs": [
    {
     "data": {
      "text/plain": [
       "['105.ipynb', '104.ipynb', '.ipynb_checkpoints']"
      ]
     },
     "execution_count": 18,
     "metadata": {},
     "output_type": "execute_result"
    }
   ],
   "source": [
    "# Para borrar un archivo existen varias formas pero la más segura es la siguiente\n",
    "import send2trash\n",
    "\n",
    "os.listdir()"
   ]
  },
  {
   "cell_type": "code",
   "execution_count": 20,
   "metadata": {},
   "outputs": [
    {
     "data": {
      "text/plain": [
       "'/home/daniel/Desktop/Python/Prueba.txt'"
      ]
     },
     "execution_count": 20,
     "metadata": {},
     "output_type": "execute_result"
    }
   ],
   "source": [
    "shutil.move('/home/daniel/Prueba.txt','/home/daniel/Desktop/Python')"
   ]
  },
  {
   "cell_type": "code",
   "execution_count": 21,
   "metadata": {},
   "outputs": [],
   "source": [
    "send2trash.send2trash(\"Prueba.txt\")"
   ]
  },
  {
   "cell_type": "code",
   "execution_count": 22,
   "metadata": {},
   "outputs": [],
   "source": [
    "# Al eliminar de esta forma podemos revertirlo, ya que se encuentra en la papelera, de otra forma sería complicado recuperar el fichero"
   ]
  },
  {
   "cell_type": "code",
   "execution_count": 34,
   "metadata": {},
   "outputs": [
    {
     "name": "stdout",
     "output_type": "stream",
     "text": [
      "Estamos en la carpeta: /home/daniel/Desktop \n",
      "\n",
      "Las subcarpetas son: \n",
      "\tDeep Learning FastAI\n",
      "\tPython\n",
      "Los archivos son: \n",
      "\n",
      "\n",
      "Estamos en la carpeta: /home/daniel/Desktop/Deep Learning FastAI \n",
      "\n",
      "Las subcarpetas son: \n",
      "\t.ipynb_checkpoints\n",
      "Los archivos son: \n",
      "\tUntitled.ipynb\n",
      "\n",
      "\n",
      "Estamos en la carpeta: /home/daniel/Desktop/Deep Learning FastAI/.ipynb_checkpoints \n",
      "\n",
      "Las subcarpetas son: \n",
      "Los archivos son: \n",
      "\tUntitled-checkpoint.ipynb\n",
      "\n",
      "\n",
      "Estamos en la carpeta: /home/daniel/Desktop/Python \n",
      "\n",
      "Las subcarpetas son: \n",
      "\t.ipynb_checkpoints\n",
      "Los archivos son: \n",
      "\t105.ipynb\n",
      "\t104.ipynb\n",
      "\n",
      "\n",
      "Estamos en la carpeta: /home/daniel/Desktop/Python/.ipynb_checkpoints \n",
      "\n",
      "Las subcarpetas son: \n",
      "Los archivos son: \n",
      "\t105-checkpoint.ipynb\n",
      "\t104-checkpoint.ipynb\n",
      "\n",
      "\n"
     ]
    }
   ],
   "source": [
    "# Ahora veremos cómo podemos hacer un arbol con todos los archivos de un directorio, mostrando carpetas, subcarpetas y ficheros que contienen\n",
    "\n",
    "directorio = '/home/daniel/Desktop'\n",
    "for carpeta,sub_carpetas,archivos in os.walk(directorio):\n",
    "    \n",
    "    print(f\"Estamos en la carpeta: {carpeta} \\n\")\n",
    "    print(\"Las subcarpetas son: \")\n",
    "    for sub_carpeta in sub_carpetas:\n",
    "        print(f\"\\t{sub_carpeta}\")\n",
    "        \n",
    "    print(\"Los archivos son: \")\n",
    "    for archivo in archivos:\n",
    "        print(f\"\\t{archivo}\")\n",
    "        \n",
    "    print('\\n')\n",
    "        "
   ]
  },
  {
   "cell_type": "code",
   "execution_count": null,
   "metadata": {},
   "outputs": [],
   "source": []
  }
 ],
 "metadata": {
  "kernelspec": {
   "display_name": "Python 3",
   "language": "python",
   "name": "python3"
  },
  "language_info": {
   "codemirror_mode": {
    "name": "ipython",
    "version": 3
   },
   "file_extension": ".py",
   "mimetype": "text/x-python",
   "name": "python",
   "nbconvert_exporter": "python",
   "pygments_lexer": "ipython3",
   "version": "3.8.5"
  }
 },
 "nbformat": 4,
 "nbformat_minor": 4
}
