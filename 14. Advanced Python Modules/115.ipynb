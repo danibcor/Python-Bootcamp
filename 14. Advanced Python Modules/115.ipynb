{
 "cells": [
  {
   "cell_type": "code",
   "execution_count": 1,
   "metadata": {},
   "outputs": [],
   "source": [
    "import zipfile\n",
    "\n",
    "objeto_zip = zipfile.ZipFile('Complete-Python-3-Bootcamp-master.zip','r')\n",
    "objeto_zip.extractall(\"Complete-Python-3-Bootcamp-master\")"
   ]
  },
  {
   "cell_type": "code",
   "execution_count": 2,
   "metadata": {},
   "outputs": [
    {
     "name": "stdout",
     "output_type": "stream",
     "text": [
      "Good work on unzipping the file!\n",
      "You should now see 5 folders, each with a lot of random .txt files.\n",
      "Within one of these text files is a telephone number formated ###-###-#### \n",
      "Use the Python os module and regular expressions to iterate through each file, open it, and search for a telephone number.\n",
      "Good luck!\n"
     ]
    }
   ],
   "source": [
    "with open('/home/daniel/Desktop/Python/Complete-Python-3-Bootcamp-master/Complete-Python-3-Bootcamp-master/12-Advanced Python Modules/08-Advanced-Python-Module-Exercise/extracted_content/Instructions.txt') as f:\n",
    "    content = f.read()\n",
    "    print(content)"
   ]
  },
  {
   "cell_type": "code",
   "execution_count": 12,
   "metadata": {},
   "outputs": [],
   "source": [
    "import re\n",
    "import os\n",
    "\n",
    "lista_numeros = []\n",
    "\n",
    "def busqueda(archivo,patron = r'\\d{3}-\\d{3}-\\d{4}'):\n",
    "    f = open(archivo,'r')\n",
    "    texto = f.read()\n",
    "    \n",
    "    if re.search(patron,texto):\n",
    "        return re.search(patron,texto)\n",
    "    else:\n",
    "        return ''\n",
    "\n",
    "for carpetas, sub_carpetas, archivos in os.walk(os.getcwd()+\"/extracted_content\"):\n",
    "    \n",
    "    for archivo in archivos:\n",
    "        directorio_fichero = carpetas+'/'+archivo\n",
    "        lista_numeros.append(busqueda(directorio_fichero))\n",
    "\n",
    "        \n",
    "for numero in lista_numeros:\n",
    "    if numero != '':\n",
    "        print(numero.group())"
   ]
  },
  {
   "cell_type": "code",
   "execution_count": null,
   "metadata": {},
   "outputs": [],
   "source": []
  }
 ],
 "metadata": {
  "kernelspec": {
   "display_name": "Python 3",
   "language": "python",
   "name": "python3"
  },
  "language_info": {
   "codemirror_mode": {
    "name": "ipython",
    "version": 3
   },
   "file_extension": ".py",
   "mimetype": "text/x-python",
   "name": "python",
   "nbconvert_exporter": "python",
   "pygments_lexer": "ipython3",
   "version": "3.8.5"
  }
 },
 "nbformat": 4,
 "nbformat_minor": 4
}
