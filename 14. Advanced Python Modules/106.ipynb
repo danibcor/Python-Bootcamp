{
 "cells": [
  {
   "cell_type": "code",
   "execution_count": 1,
   "metadata": {},
   "outputs": [],
   "source": [
    "# Modulo de Fecha y Hora"
   ]
  },
  {
   "cell_type": "code",
   "execution_count": 3,
   "metadata": {},
   "outputs": [],
   "source": [
    "# Permite crear objetos que tienen informacion no solo sobre la fecha o la hora, tambien cosas con zona horaria y operaciones entre fecha y hora\n",
    "# Como cuantos segundos han pasado o cuantos dias han pasado"
   ]
  },
  {
   "cell_type": "code",
   "execution_count": 4,
   "metadata": {},
   "outputs": [],
   "source": [
    "import datetime\n",
    "\n",
    "mi_tiempo = datetime.time(2,20)"
   ]
  },
  {
   "cell_type": "code",
   "execution_count": 5,
   "metadata": {},
   "outputs": [
    {
     "data": {
      "text/plain": [
       "20"
      ]
     },
     "execution_count": 5,
     "metadata": {},
     "output_type": "execute_result"
    }
   ],
   "source": [
    "mi_tiempo.minute"
   ]
  },
  {
   "cell_type": "code",
   "execution_count": 6,
   "metadata": {},
   "outputs": [
    {
     "name": "stdout",
     "output_type": "stream",
     "text": [
      "02:20:00\n"
     ]
    }
   ],
   "source": [
    "print(mi_tiempo)"
   ]
  },
  {
   "cell_type": "code",
   "execution_count": 7,
   "metadata": {},
   "outputs": [],
   "source": [
    "# Podemos asignar incluso microsegundos, tiene un formato de 24 horas"
   ]
  },
  {
   "cell_type": "code",
   "execution_count": 8,
   "metadata": {},
   "outputs": [],
   "source": [
    "hoy = datetime.date.today() # Así queda el formato de la fecha del día"
   ]
  },
  {
   "cell_type": "code",
   "execution_count": 9,
   "metadata": {},
   "outputs": [
    {
     "name": "stdout",
     "output_type": "stream",
     "text": [
      "2020-12-27\n"
     ]
    }
   ],
   "source": [
    "print(hoy)"
   ]
  },
  {
   "cell_type": "code",
   "execution_count": 10,
   "metadata": {},
   "outputs": [
    {
     "name": "stdout",
     "output_type": "stream",
     "text": [
      "Día: 27\n",
      "Mes: 12\n",
      "Año: 2020\n"
     ]
    }
   ],
   "source": [
    "# Incluso puedo extraer la información de la fecha para obtener los datos concretos, por ejemplo\n",
    "print(f\"Día: {hoy.day}\")\n",
    "print(f\"Mes: {hoy.month}\")\n",
    "print(f\"Año: {hoy.year}\")"
   ]
  },
  {
   "cell_type": "code",
   "execution_count": 12,
   "metadata": {},
   "outputs": [
    {
     "name": "stdout",
     "output_type": "stream",
     "text": [
      "366 days, 0:00:00\n"
     ]
    }
   ],
   "source": [
    "# Incluso podemos realizar operaciones con las fechas, por ejemplo para ver la diferencia de días que hay entre una fecha y otra\n",
    "from datetime import date\n",
    "\n",
    "fecha1 = date(2021,11,3)\n",
    "fecha2 = date(2020,11,2)\n",
    "\n",
    "print(fecha1 - fecha2)"
   ]
  },
  {
   "cell_type": "code",
   "execution_count": null,
   "metadata": {},
   "outputs": [],
   "source": []
  }
 ],
 "metadata": {
  "kernelspec": {
   "display_name": "Python 3",
   "language": "python",
   "name": "python3"
  },
  "language_info": {
   "codemirror_mode": {
    "name": "ipython",
    "version": 3
   },
   "file_extension": ".py",
   "mimetype": "text/x-python",
   "name": "python",
   "nbconvert_exporter": "python",
   "pygments_lexer": "ipython3",
   "version": "3.8.5"
  }
 },
 "nbformat": 4,
 "nbformat_minor": 4
}
