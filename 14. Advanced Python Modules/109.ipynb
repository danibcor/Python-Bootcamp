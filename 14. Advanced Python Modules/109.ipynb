{
 "cells": [
  {
   "cell_type": "code",
   "execution_count": 1,
   "metadata": {},
   "outputs": [],
   "source": [
    "# Expresiones regulares parte 1"
   ]
  },
  {
   "cell_type": "code",
   "execution_count": 2,
   "metadata": {},
   "outputs": [
    {
     "data": {
      "text/plain": [
       "True"
      ]
     },
     "execution_count": 2,
     "metadata": {},
     "output_type": "execute_result"
    }
   ],
   "source": [
    "texto = \"El numero del agente es 111-111-1111\"\n",
    "\n",
    "'numero' in texto"
   ]
  },
  {
   "cell_type": "code",
   "execution_count": 6,
   "metadata": {},
   "outputs": [
    {
     "name": "stdout",
     "output_type": "stream",
     "text": [
      "<re.Match object; span=(3, 9), match='numero'>\n"
     ]
    }
   ],
   "source": [
    "import re\n",
    "\n",
    "patron = \"numero\"\n",
    "\n",
    "busqueda = re.search(patron,texto) # Localiza la palabra y te muestra el indice desde donde empieza hasta donde acaba\n",
    "\n",
    "print(busqueda)"
   ]
  },
  {
   "cell_type": "code",
   "execution_count": 7,
   "metadata": {},
   "outputs": [
    {
     "data": {
      "text/plain": [
       "(3, 9)"
      ]
     },
     "execution_count": 7,
     "metadata": {},
     "output_type": "execute_result"
    }
   ],
   "source": [
    "busqueda.span() # Me muestra el indice de la palabra"
   ]
  },
  {
   "cell_type": "code",
   "execution_count": 8,
   "metadata": {},
   "outputs": [
    {
     "name": "stdout",
     "output_type": "stream",
     "text": [
      "3\n",
      "9\n"
     ]
    }
   ],
   "source": [
    "print(busqueda.start()) # Me muestra el indice inicial de la palabra\n",
    "print(busqueda.end()) # Me muestra el indice final de la palabra"
   ]
  },
  {
   "cell_type": "code",
   "execution_count": 9,
   "metadata": {},
   "outputs": [
    {
     "name": "stdout",
     "output_type": "stream",
     "text": [
      "['numero', 'numero']\n"
     ]
    }
   ],
   "source": [
    "# Si queremos encontrar todas las mismas palabras y no una única, haremos lo siguiente\n",
    "texto2 = \"Mi numero favorito es el numero 8\"\n",
    "\n",
    "busqueda2 = re.findall(\"numero\",texto2)\n",
    "print(busqueda2)"
   ]
  },
  {
   "cell_type": "code",
   "execution_count": 17,
   "metadata": {},
   "outputs": [
    {
     "name": "stdout",
     "output_type": "stream",
     "text": [
      "La palabra 'numero' está en los indices siguientes:\n",
      "\t(3, 9)\n",
      "\t(25, 31)\n",
      "\n",
      "La palabra 'numero' siguientes:\n",
      "\tnumero -> (3, 9)\n",
      "\tnumero -> (25, 31)\n"
     ]
    }
   ],
   "source": [
    "# O si queremos ver en qué indice se encuentra la palabra repetida varias veces\n",
    "print(\"La palabra 'numero' está en los indices siguientes:\")\n",
    "for palabra in re.finditer('numero',texto2):\n",
    "    print(f\"\\t{palabra.span()}\")\n",
    "    \n",
    "# Si queremos mostrar la palabra en vez del indice pondremos : group\n",
    "print(\"\\nLa palabra 'numero' siguientes:\")\n",
    "for palabra in re.finditer('numero',texto2):\n",
    "    print(f\"\\t{palabra.group()} -> {palabra.span()}\")"
   ]
  },
  {
   "cell_type": "code",
   "execution_count": null,
   "metadata": {},
   "outputs": [],
   "source": []
  }
 ],
 "metadata": {
  "kernelspec": {
   "display_name": "Python 3",
   "language": "python",
   "name": "python3"
  },
  "language_info": {
   "codemirror_mode": {
    "name": "ipython",
    "version": 3
   },
   "file_extension": ".py",
   "mimetype": "text/x-python",
   "name": "python",
   "nbconvert_exporter": "python",
   "pygments_lexer": "ipython3",
   "version": "3.8.5"
  }
 },
 "nbformat": 4,
 "nbformat_minor": 4
}
