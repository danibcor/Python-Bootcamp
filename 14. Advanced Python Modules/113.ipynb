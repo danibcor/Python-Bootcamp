{
 "cells": [
  {
   "cell_type": "code",
   "execution_count": 2,
   "metadata": {},
   "outputs": [],
   "source": [
    "# Descomprimir y Comprimir archivos"
   ]
  },
  {
   "cell_type": "code",
   "execution_count": 3,
   "metadata": {},
   "outputs": [],
   "source": [
    "f = open(\"nuevo_archivo.txt\",'w+')\n",
    "f.write(\"Here is some text\")\n",
    "f.close()"
   ]
  },
  {
   "cell_type": "code",
   "execution_count": 4,
   "metadata": {},
   "outputs": [],
   "source": [
    "f = open(\"nuevo_archivo2.txt\",'w+')\n",
    "f.write(\"Here is some other text\")\n",
    "f.close()"
   ]
  },
  {
   "cell_type": "code",
   "execution_count": 5,
   "metadata": {},
   "outputs": [],
   "source": [
    "# Para comprimir archivos hacemos lo siguiente\n",
    "\n",
    "import zipfile\n",
    "\n",
    "archivo_comprimido = zipfile.ZipFile('comprimido_1.zip','w') # Así creamos el zip\n",
    "archivo_comprimido.write(\"nuevo_archivo.txt\",compress_type=zipfile.ZIP_DEFLATED) # Así introducimos el fichero al zip\n",
    "archivo_comprimido.write('nuevo_archivo2.txt',compress_type=zipfile.ZIP_DEFLATED) # Así introducimos el fichero al zip "
   ]
  },
  {
   "cell_type": "code",
   "execution_count": 7,
   "metadata": {},
   "outputs": [],
   "source": [
    "archivo_comprimido.close() # Así cerramos el zip una vez hemos introducido en el todos los archivos"
   ]
  },
  {
   "cell_type": "code",
   "execution_count": 10,
   "metadata": {},
   "outputs": [],
   "source": [
    "# Para extraer archivos zip haríamos lo siguiente\n",
    "\n",
    "zip_obj = zipfile.ZipFile('comprimido_1.zip','r')\n",
    "zip_obj.extractall(\"extracted_content\") # Extrae todo el contenido del zip en una carpeta con el nombre que hemos introducido"
   ]
  },
  {
   "cell_type": "code",
   "execution_count": null,
   "metadata": {},
   "outputs": [],
   "source": [
    "# Mirar el notebook del bootcamp para utilizar la libreria shutil"
   ]
  }
 ],
 "metadata": {
  "kernelspec": {
   "display_name": "Python 3",
   "language": "python",
   "name": "python3"
  },
  "language_info": {
   "codemirror_mode": {
    "name": "ipython",
    "version": 3
   },
   "file_extension": ".py",
   "mimetype": "text/x-python",
   "name": "python",
   "nbconvert_exporter": "python",
   "pygments_lexer": "ipython3",
   "version": "3.8.5"
  }
 },
 "nbformat": 4,
 "nbformat_minor": 4
}
