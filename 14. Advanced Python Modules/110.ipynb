{
 "cells": [
  {
   "cell_type": "code",
   "execution_count": 1,
   "metadata": {},
   "outputs": [],
   "source": [
    "# En el caso que queramos encontrar patrones generales\n",
    "# Mirar la tabla de caracteres identificadores, en este caso veremos el ejemplo para digitos (\\d)"
   ]
  },
  {
   "cell_type": "code",
   "execution_count": 4,
   "metadata": {},
   "outputs": [
    {
     "data": {
      "text/plain": [
       "'11 11 11 111'"
      ]
     },
     "execution_count": 4,
     "metadata": {},
     "output_type": "execute_result"
    }
   ],
   "source": [
    "import re\n",
    "\n",
    "texto = \"Mi numero de telefono es 11 11 11 111\"\n",
    "\n",
    "numero = re.search(r\"\\d\\d \\d\\d \\d\\d \\d\\d\\d\",texto) # Importante poner la r para indicar a Python que se trata de un patron\n",
    "\n",
    "numero.group()"
   ]
  },
  {
   "cell_type": "code",
   "execution_count": 7,
   "metadata": {},
   "outputs": [
    {
     "data": {
      "text/plain": [
       "'11 11 11 111'"
      ]
     },
     "execution_count": 7,
     "metadata": {},
     "output_type": "execute_result"
    }
   ],
   "source": [
    "# Pero en el caso de querer patrones de numeros más largos, o en este caso en vez de repetir todo el rato \\d, podemos utilizar cuantificadores, por ejemplo:\n",
    "\n",
    "numero = re.search(r\"\\d{2} \\d{2} \\d{2} \\d{3}\",texto) # Importante poner la r para indicar a Python que se trata de un patron\n",
    "\n",
    "numero.group()"
   ]
  },
  {
   "cell_type": "code",
   "execution_count": 8,
   "metadata": {},
   "outputs": [],
   "source": [
    "# Ahora si queremos extraer areas concretas del codigo del patron, podemos utilizar grupos para cualquier tarea general\n",
    "# que implique agrupar expresioner.\n",
    "# Tener en cuenta que el indexado de estos grupos empieza en 1 y no en 0\n",
    "# Ejemplo\n",
    "\n",
    "numero_grupos = numero = re.compile(r\"(\\d{2}) (\\d{2}) (\\d{2}) (\\d{3})\")\n",
    "\n",
    "resultado = re.search(numero_grupos,texto)"
   ]
  },
  {
   "cell_type": "code",
   "execution_count": 10,
   "metadata": {},
   "outputs": [
    {
     "data": {
      "text/plain": [
       "'11 11 11 111'"
      ]
     },
     "execution_count": 10,
     "metadata": {},
     "output_type": "execute_result"
    }
   ],
   "source": [
    "resultado.group()"
   ]
  },
  {
   "cell_type": "code",
   "execution_count": 11,
   "metadata": {},
   "outputs": [
    {
     "data": {
      "text/plain": [
       "'111'"
      ]
     },
     "execution_count": 11,
     "metadata": {},
     "output_type": "execute_result"
    }
   ],
   "source": [
    "resultado.group(4)"
   ]
  },
  {
   "cell_type": "code",
   "execution_count": null,
   "metadata": {},
   "outputs": [],
   "source": []
  }
 ],
 "metadata": {
  "kernelspec": {
   "display_name": "Python 3",
   "language": "python",
   "name": "python3"
  },
  "language_info": {
   "codemirror_mode": {
    "name": "ipython",
    "version": 3
   },
   "file_extension": ".py",
   "mimetype": "text/x-python",
   "name": "python",
   "nbconvert_exporter": "python",
   "pygments_lexer": "ipython3",
   "version": "3.8.5"
  }
 },
 "nbformat": 4,
 "nbformat_minor": 4
}
