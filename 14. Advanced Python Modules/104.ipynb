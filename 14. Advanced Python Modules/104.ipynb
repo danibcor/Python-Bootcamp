{
 "cells": [
  {
   "cell_type": "code",
   "execution_count": 1,
   "metadata": {},
   "outputs": [],
   "source": [
    "# Collections Module\n",
    "# Implementa tipos de datos de contenedores especializados que son una alternativa de los contenedores propios de Python de uso general\n",
    "# UN contenedor es algo asi como un diccionario o una tupla"
   ]
  },
  {
   "cell_type": "code",
   "execution_count": 2,
   "metadata": {},
   "outputs": [
    {
     "data": {
      "text/plain": [
       "Counter({1: 6, 2: 4, 3: 3})"
      ]
     },
     "execution_count": 2,
     "metadata": {},
     "output_type": "execute_result"
    }
   ],
   "source": [
    "from collections import Counter\n",
    "\n",
    "# Vamos a poner la situación que tengo una lista con un conjunto de objetos que se repiten y quiero saber cuantas veces se repite\n",
    "# ese objeto dentro de la lista\n",
    "\n",
    "lista = [1,1,1,1,1,1,2,2,2,2,3,3,3]\n",
    "\n",
    "Counter(lista)"
   ]
  },
  {
   "cell_type": "code",
   "execution_count": 3,
   "metadata": {},
   "outputs": [
    {
     "data": {
      "text/plain": [
       "Counter({1: 6, 2: 4, 3: 3, 'a': 1, 'adios': 1})"
      ]
     },
     "execution_count": 3,
     "metadata": {},
     "output_type": "execute_result"
    }
   ],
   "source": [
    "lista = [1,1,1,1,1,1,2,2,2,2,3,3,3,'a','adios']\n",
    "\n",
    "Counter(lista)"
   ]
  },
  {
   "cell_type": "code",
   "execution_count": 4,
   "metadata": {},
   "outputs": [],
   "source": [
    "# Dentro de COunter, los elementos se almacenan como claves de diccionario y los recuentos de los objetos se almacenan como valore\n",
    "# Entonces es un tipo de dccionario especializado donde las claves son siempre el objeto y el valor es siempre el recuento"
   ]
  },
  {
   "cell_type": "code",
   "execution_count": 5,
   "metadata": {},
   "outputs": [],
   "source": [
    "# Puedo asignar este contador a una variable, por ejemplo\n",
    "\n",
    "algo = \"aaaaaaabbbbbbbbcccccc\"\n",
    "\n",
    "recuento = Counter(algo)"
   ]
  },
  {
   "cell_type": "code",
   "execution_count": 6,
   "metadata": {},
   "outputs": [
    {
     "data": {
      "text/plain": [
       "Counter({'a': 7, 'b': 8, 'c': 6})"
      ]
     },
     "execution_count": 6,
     "metadata": {},
     "output_type": "execute_result"
    }
   ],
   "source": [
    "recuento"
   ]
  },
  {
   "cell_type": "code",
   "execution_count": 7,
   "metadata": {},
   "outputs": [
    {
     "data": {
      "text/plain": [
       "[('b', 8), ('a', 7), ('c', 6)]"
      ]
     },
     "execution_count": 7,
     "metadata": {},
     "output_type": "execute_result"
    }
   ],
   "source": [
    "# ahora la variables recuento implementa otras funciones parecidas a las que hemos visto a los diccionarios ya implementados en Python\n",
    "# pero también incluye otros métodos exclusivos cómo:\n",
    "# Para ver los métodos pulsamos la tecla \"TAB\"\n",
    "\n",
    "recuento.most_common() # Me muestra en orden decreciente los objetos desde el más repetido hasta el menos repetido"
   ]
  },
  {
   "cell_type": "code",
   "execution_count": 8,
   "metadata": {},
   "outputs": [
    {
     "data": {
      "text/plain": [
       "[('b', 8)]"
      ]
     },
     "execution_count": 8,
     "metadata": {},
     "output_type": "execute_result"
    }
   ],
   "source": [
    "# Incluso podríamos especificar cuantos objetos de los más repetidos queremos que se muestren, por ejemplo:\n",
    "recuento.most_common(1) # Solo mostraría el primer objeto mas repetido"
   ]
  },
  {
   "cell_type": "code",
   "execution_count": 9,
   "metadata": {},
   "outputs": [
    {
     "data": {
      "text/plain": [
       "['a', 'b', 'c']"
      ]
     },
     "execution_count": 9,
     "metadata": {},
     "output_type": "execute_result"
    }
   ],
   "source": [
    "# Podemos pasar la variable recuento a un set, lista etc, por ejemplo\n",
    "list(recuento)"
   ]
  },
  {
   "cell_type": "code",
   "execution_count": 11,
   "metadata": {},
   "outputs": [],
   "source": [
    "# Diccionario por defecto\n",
    "# Nos puede ser útil cuando queremos llamar a una clave de un diccinoario que no existe en el diccionario, por lo que podemos asignar un valor por defecto,\n",
    "# con el diccionario que ya viene incluido en Python el resultado que nos daría es un error de llave, en este caso el resultado sería el valor que hemos puesto como defecto\n",
    "\n",
    "from collections import defaultdict\n",
    "\n",
    "d = defaultdict(lambda:0)"
   ]
  },
  {
   "cell_type": "code",
   "execution_count": 12,
   "metadata": {},
   "outputs": [
    {
     "data": {
      "text/plain": [
       "0"
      ]
     },
     "execution_count": 12,
     "metadata": {},
     "output_type": "execute_result"
    }
   ],
   "source": [
    "d[\"Prueba\"]"
   ]
  },
  {
   "cell_type": "code",
   "execution_count": 13,
   "metadata": {},
   "outputs": [],
   "source": [
    "# Vemos que nos devuelve el valor por defecto que hemos puesto en la función lambda"
   ]
  },
  {
   "cell_type": "code",
   "execution_count": 14,
   "metadata": {},
   "outputs": [],
   "source": [
    " # NOMBRE TUPLA"
   ]
  },
  {
   "cell_type": "code",
   "execution_count": 15,
   "metadata": {},
   "outputs": [],
   "source": [
    "# El nombre tupla, intenta expandir en un objeto de tupla normal al tener índices nombrados"
   ]
  },
  {
   "cell_type": "code",
   "execution_count": 16,
   "metadata": {},
   "outputs": [],
   "source": [
    "tupla = (10,20,30)"
   ]
  },
  {
   "cell_type": "code",
   "execution_count": 18,
   "metadata": {},
   "outputs": [
    {
     "data": {
      "text/plain": [
       "10"
      ]
     },
     "execution_count": 18,
     "metadata": {},
     "output_type": "execute_result"
    }
   ],
   "source": [
    "tupla[0]"
   ]
  },
  {
   "cell_type": "code",
   "execution_count": 19,
   "metadata": {},
   "outputs": [],
   "source": [
    "# Este ejemplo es muy sencillo, tenemos una tupla con 3 elementos, si queremos unos de los elementos podemos verlo facilmente,\n",
    "# pero qué ocurre cuando tenemos una tupla con mas objetos y queremos sacar uno de ellos"
   ]
  },
  {
   "cell_type": "code",
   "execution_count": 24,
   "metadata": {},
   "outputs": [],
   "source": [
    "from collections import namedtuple\n",
    "conejo = namedtuple(\"Conejo\",[\"Edad\",\"Color\",\"Nombre\"])"
   ]
  },
  {
   "cell_type": "code",
   "execution_count": 25,
   "metadata": {},
   "outputs": [],
   "source": [
    "misifu = conejo(Edad = 2, Color = \"Blanco\", Nombre = \"Misifu\")"
   ]
  },
  {
   "cell_type": "code",
   "execution_count": 26,
   "metadata": {},
   "outputs": [
    {
     "data": {
      "text/plain": [
       "Conejo(Edad=2, Color='Blanco', Nombre='Misifu')"
      ]
     },
     "execution_count": 26,
     "metadata": {},
     "output_type": "execute_result"
    }
   ],
   "source": [
    "misifu"
   ]
  },
  {
   "cell_type": "code",
   "execution_count": 27,
   "metadata": {},
   "outputs": [
    {
     "data": {
      "text/plain": [
       "2"
      ]
     },
     "execution_count": 27,
     "metadata": {},
     "output_type": "execute_result"
    }
   ],
   "source": [
    "# Ahora podemos acceder a la tupla o por el índice, por ejemplo:\n",
    "misifu[0]"
   ]
  },
  {
   "cell_type": "code",
   "execution_count": 29,
   "metadata": {},
   "outputs": [
    {
     "data": {
      "text/plain": [
       "2"
      ]
     },
     "execution_count": 29,
     "metadata": {},
     "output_type": "execute_result"
    }
   ],
   "source": [
    "# O podemos acceder a la tupla por el nombre del indice, por ejemplo:\n",
    "misifu.Edad"
   ]
  },
  {
   "cell_type": "code",
   "execution_count": null,
   "metadata": {},
   "outputs": [],
   "source": []
  }
 ],
 "metadata": {
  "kernelspec": {
   "display_name": "Python 3",
   "language": "python",
   "name": "python3"
  },
  "language_info": {
   "codemirror_mode": {
    "name": "ipython",
    "version": 3
   },
   "file_extension": ".py",
   "mimetype": "text/x-python",
   "name": "python",
   "nbconvert_exporter": "python",
   "pygments_lexer": "ipython3",
   "version": "3.8.5"
  }
 },
 "nbformat": 4,
 "nbformat_minor": 4
}
