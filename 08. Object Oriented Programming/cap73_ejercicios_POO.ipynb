{
 "cells": [
  {
   "cell_type": "code",
   "execution_count": 3,
   "metadata": {},
   "outputs": [
    {
     "name": "stdout",
     "output_type": "stream",
     "text": [
      "\n",
      "\t-- RELLENAR COORDENADA 1 --\n",
      "\n",
      "Valor de X1: 3\n",
      "Valor de Y1: 2\n",
      "\n",
      "\t-- RELLENAR COORDENADA 2 --\n",
      "\n",
      "Valor de X2: 8\n",
      "Valor de Y2: 10\n",
      "\n",
      "La distancia entre los 2 puntos es: 9.433981132056603\n",
      "\n",
      "La distancia entre los 2 puntos es: 1.6\n"
     ]
    }
   ],
   "source": [
    "# Problema 1\n",
    "# Rellena los métodos de clase de línea para aceptar las coordenadas como un par de tuplas y devolver la pendiente \n",
    "# y la distancia de la línea.\n",
    "\n",
    "import math\n",
    "\n",
    "class Line:\n",
    "    \n",
    "    def __init__(self,coor1,coor2):\n",
    "        \n",
    "        self.coor1 = coor1\n",
    "        self.coor2 = coor2\n",
    "    \n",
    "    def distance(self):\n",
    "        \n",
    "        x1,y1 = self.coor1\n",
    "        x2,y2 = self.coor2\n",
    "        \n",
    "        return math.sqrt(pow(x2-x1,2) + pow(y2-y1,2))\n",
    "    \n",
    "    def slope(self):\n",
    "        \n",
    "        x1,y1 = self.coor1\n",
    "        x2,y2 = self.coor2\n",
    "        \n",
    "        return (y2 - y1) / (x2 - x1)\n",
    "\n",
    "def pedir_coordenadas():\n",
    "    \n",
    "    print(\"\\n\\t-- RELLENAR COORDENADA 1 --\\n\")\n",
    "    x1 = float(input(\"Valor de X1: \"))\n",
    "    y1 = float(input(\"Valor de Y1: \"))\n",
    "    \n",
    "    print(\"\\n\\t-- RELLENAR COORDENADA 2 --\\n\")\n",
    "    x2 = float(input(\"Valor de X2: \"))\n",
    "    y2 = float(input(\"Valor de Y2: \"))\n",
    "    \n",
    "    return (x1,y1),(x2,y2)\n",
    "    \n",
    "a,b = pedir_coordenadas()\n",
    "\n",
    "coordenadas = Line(a,b)\n",
    "print(f\"\\nLa distancia entre los 2 puntos es: {coordenadas.distance()}\")\n",
    "print(f\"\\nLa distancia entre los 2 puntos es: {coordenadas.slope()}\")"
   ]
  },
  {
   "cell_type": "code",
   "execution_count": 7,
   "metadata": {},
   "outputs": [
    {
     "name": "stdout",
     "output_type": "stream",
     "text": [
      "\n",
      "\t-- RELLENAR DATOS --\n",
      "\n",
      "Altura del cilindro: 2\n",
      "Radio del cilindro: 3\n",
      "\n",
      "El volumen del cilindro es: 56.548667764616276\n",
      "\n",
      "El area de la superficie del cilindro es: 94.24777960769379\n"
     ]
    }
   ],
   "source": [
    "class Cylinder:\n",
    "    \n",
    "    def __init__(self,height=1,radius=1):\n",
    "        \n",
    "        self.height = height\n",
    "        self.radius = radius\n",
    "        \n",
    "    def volume(self):\n",
    "        \n",
    "        return math.pi * pow(self.radius,2) * self.height\n",
    "    \n",
    "    def surface_area(self):\n",
    "        \n",
    "        return (2 * math.pi * self.radius * self.height) + (2 * math.pi * pow(self.radius,2))\n",
    "    \n",
    "def pedir_datos():\n",
    "    \n",
    "    print(\"\\n\\t-- RELLENAR DATOS --\\n\")\n",
    "    altura = float(input(\"Altura del cilindro: \"))\n",
    "    radio = float(input(\"Radio del cilindro: \"))\n",
    "    \n",
    "    return altura,radio\n",
    "    \n",
    "a,b = pedir_datos()\n",
    "\n",
    "cilindro = Cylinder(a,b)\n",
    "\n",
    "print(f\"\\nEl volumen del cilindro es: {cilindro.volume()}\")\n",
    "print(f\"\\nEl area de la superficie del cilindro es: {cilindro.surface_area()}\")"
   ]
  },
  {
   "cell_type": "code",
   "execution_count": null,
   "metadata": {},
   "outputs": [],
   "source": []
  }
 ],
 "metadata": {
  "kernelspec": {
   "display_name": "Python 3",
   "language": "python",
   "name": "python3"
  },
  "language_info": {
   "codemirror_mode": {
    "name": "ipython",
    "version": 3
   },
   "file_extension": ".py",
   "mimetype": "text/x-python",
   "name": "python",
   "nbconvert_exporter": "python",
   "pygments_lexer": "ipython3",
   "version": "3.8.5"
  }
 },
 "nbformat": 4,
 "nbformat_minor": 4
}
