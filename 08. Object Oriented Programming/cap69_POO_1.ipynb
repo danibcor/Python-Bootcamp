{
 "cells": [
  {
   "cell_type": "code",
   "execution_count": 1,
   "metadata": {},
   "outputs": [],
   "source": [
    "# En esta primera parte nos enfocaremos en la palabra clave de la clase, asi como en la creacion de atributos para nuestros objetos"
   ]
  },
  {
   "cell_type": "code",
   "execution_count": 2,
   "metadata": {},
   "outputs": [
    {
     "data": {
      "text/plain": [
       "__main__.EjemploClase"
      ]
     },
     "execution_count": 2,
     "metadata": {},
     "output_type": "execute_result"
    }
   ],
   "source": [
    "# La clase es basicamente un plano que define la naturaleza de un objeto\n",
    "# Podemos construir una instancia del objeto en una instacia, esta instancia es un objeto especifico creado a partir de una clase en particular\n",
    "# Un ejemplo de clase\n",
    "\n",
    "class EjemploClase(): # Recordar que por convencion para las clases seguimos el Camel Case, lo que quiere decir que cada palabra tiene partes en mayusculas\n",
    "    pass \n",
    "\n",
    "# De esta manera creamos una clase muy sencilla (No hace nada)\n",
    "mi_ejemplo = EjemploClase() # Asi creamos una instancia de la clase \n",
    "\n",
    "type(mi_ejemplo) # Permite mostrar el tipo de mi muestra"
   ]
  },
  {
   "cell_type": "code",
   "execution_count": 22,
   "metadata": {},
   "outputs": [],
   "source": [
    "class Coche():\n",
    "    \n",
    "    # Este es un metodo especial, que sera invocado cada vez que creemos una instancia de la clase \n",
    "    # empezaremos siempre con la palabra clave \"self\" que conecta este metodo con la instancia de la clase\n",
    "    # y nos permite referirnos a si mismo y luego pasamos los atributos que queramos\n",
    "    def __init__(self,marca,modelo,mejorado,acceso_coche): # En c++ ese self se hace de manera oculta, en Python hay que especificar el self\n",
    "        \n",
    "        # \"distintivo\" seria el nombre del atributo\n",
    "        self.marca = marca\n",
    "        self.modelo = modelo\n",
    "        self.mejorado = mejorado\n",
    "        self.acceso_coche = acceso_coche\n",
    "        \n",
    "        # Esto lo hago para ver realmente la asignacion que se hace, pero por convencion se suele emplear el mismo nombre\n",
    "        # de variable tanto para el parametro que se le pasa al metodo como el atributo\n",
    "        "
   ]
  },
  {
   "cell_type": "code",
   "execution_count": 27,
   "metadata": {},
   "outputs": [
    {
     "name": "stdout",
     "output_type": "stream",
     "text": [
      "Marca del coche: Tesla\n",
      "Modelo del coche: Model S\n",
      "Mejoras incluidas? (S: si , N: no): k\n",
      "Mejoras incluidas? (S: si , N: no): l\n",
      "Mejoras incluidas? (S: si , N: no): s\n",
      "Persona 0 con acceso al coche: Daniel\n",
      "Persona 1 con acceso al coche: Jorge\n",
      "Persona 2 con acceso al coche: Fran\n",
      "Persona 3 con acceso al coche: Cande\n",
      "Mi coche es un Tesla y es el modelo Model S, con todas las mejoras incluidas\n",
      "Daniel tiene acceso a mi coche\n",
      "Jorge tiene acceso a mi coche\n",
      "Fran tiene acceso a mi coche\n",
      "Cande tiene acceso a mi coche\n"
     ]
    }
   ],
   "source": [
    "max_personas = 4\n",
    "lista_personas = []\n",
    "mejorado = False\n",
    "\n",
    "marca = input(\"Marca del coche: \")\n",
    "modelo = input(\"Modelo del coche: \") # No tiene por qué tener el mismo nombre de variable que los parametros de la clase\n",
    "m = input(\"Mejoras incluidas? (S: si , N: no): \" ).upper()\n",
    "\n",
    "while m != 'S' and m!= 'N':\n",
    "    m = input(\"Mejoras incluidas? (S: si , N: no): \" ).upper()\n",
    "\n",
    "if m == 'S':\n",
    "    mejorado = True\n",
    "    \n",
    "for i in range(0,max_personas):\n",
    "    \n",
    "    lista_personas.append(input(f\"Persona {i} con acceso al coche: \"))\n",
    "    \n",
    "mi_coche = Coche(marca,modelo,mejorado,lista_personas)\n",
    "\n",
    "print(f\"Mi coche es un {mi_coche.marca} y es el modelo {mi_coche.modelo}\",end='')\n",
    "\n",
    "if mi_coche.mejorado:\n",
    "    print(\", con todas las mejoras incluidas\")\n",
    "else:\n",
    "    print(\", sin mejoras incluidas\")\n",
    "    \n",
    "for persona in mi_coche.acceso_coche:\n",
    "    print(f\"{persona} tiene acceso a mi coche\")"
   ]
  },
  {
   "cell_type": "code",
   "execution_count": null,
   "metadata": {},
   "outputs": [],
   "source": []
  }
 ],
 "metadata": {
  "kernelspec": {
   "display_name": "Python 3",
   "language": "python",
   "name": "python3"
  },
  "language_info": {
   "codemirror_mode": {
    "name": "ipython",
    "version": 3
   },
   "file_extension": ".py",
   "mimetype": "text/x-python",
   "name": "python",
   "nbconvert_exporter": "python",
   "pygments_lexer": "ipython3",
   "version": "3.8.5"
  }
 },
 "nbformat": 4,
 "nbformat_minor": 4
}
