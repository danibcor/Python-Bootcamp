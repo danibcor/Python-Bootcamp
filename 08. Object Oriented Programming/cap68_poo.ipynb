{
 "cells": [
  {
   "cell_type": "code",
   "execution_count": 1,
   "metadata": {},
   "outputs": [],
   "source": [
    "# Programacion Orientada a Objetos"
   ]
  },
  {
   "cell_type": "code",
   "execution_count": 2,
   "metadata": {},
   "outputs": [],
   "source": [
    "# La programacion orientada a objetos permite crear objetos propios que tienen métodos y atributos\n",
    "# Estos métoos actuan como funciones que usan informacion sobre el objeto y tambien sobre el objeto mismo o cambiar el objeto actual\n",
    "# La programación orientada a objeto permite crear codigo que es repetible y organizado, ademas que permite\n",
    "# crear programas flexibles, además de a la hora usar bibliotecas externas estas suelen emplear programacion orientada a objetos\n",
    "# Las tareas mas repetidas pueden ser definidas con la POO para crear codigo mas usable"
   ]
  },
  {
   "cell_type": "code",
   "execution_count": null,
   "metadata": {},
   "outputs": [],
   "source": [
    "# Sintaxis\n",
    "\n",
    "class NombreDeClase(): # Las clases por convención son palaras mayusculas \n",
    "    \n",
    "    # __init__ permite crear una instancia del objeto actual\n",
    "    # donde el parametro1 y el parametro2 son parametros que definen al objeto y que Python espera a que le pasemos\n",
    "    # Lo que hacemos es conectar el parametro con el uso de ese para vincularlo al objeto\n",
    "    def __init__(self,parametro1,parametro2): # Metodo 1\n",
    "        self.parametro1 = parametro1\n",
    "        self.parametro2 = parametro2\n",
    "        \n",
    "    # Luego del metodo __init__ podemos tener otros metodos dentro de la misma clase\n",
    "    # Se le pasa el self para que Python reconozca que no es solo una funcion, sino que se trata de un metodo\n",
    "    #\n",
    "    def algun_metodo(self): # Método 2 \n",
    "        # Se realiza alguna accion dentro de la funcion\n",
    "        \n",
    "# Cuando una funcion se encuentra dentro de una clase para de llamarse funcion a llamarse metodo\n"
   ]
  }
 ],
 "metadata": {
  "kernelspec": {
   "display_name": "Python 3",
   "language": "python",
   "name": "python3"
  },
  "language_info": {
   "codemirror_mode": {
    "name": "ipython",
    "version": 3
   },
   "file_extension": ".py",
   "mimetype": "text/x-python",
   "name": "python",
   "nbconvert_exporter": "python",
   "pygments_lexer": "ipython3",
   "version": "3.8.5"
  }
 },
 "nbformat": 4,
 "nbformat_minor": 4
}
