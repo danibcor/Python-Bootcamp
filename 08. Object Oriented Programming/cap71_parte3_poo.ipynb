{
 "cells": [
  {
   "cell_type": "code",
   "execution_count": 1,
   "metadata": {},
   "outputs": [],
   "source": [
    "# En esta parte nos centraremos en la herencia y el polimorfismo"
   ]
  },
  {
   "cell_type": "code",
   "execution_count": 2,
   "metadata": {},
   "outputs": [],
   "source": [
    "# La herencia es una forma de formar nuevas clases usando clases que ya hemos definido\n",
    "# La principal ventaja de la herencia es reutilizar el codigo que ya hemos trabajado\n",
    "# pra asi reducir la complejidad del programa"
   ]
  },
  {
   "cell_type": "code",
   "execution_count": 7,
   "metadata": {},
   "outputs": [
    {
     "name": "stdout",
     "output_type": "stream",
     "text": [
      "Se ha creado el animal\n"
     ]
    }
   ],
   "source": [
    "class Animal():\n",
    "    \n",
    "    def __init__(self):\n",
    "        print(\"Se ha creado el animal\")\n",
    "    def quien_soy(self):\n",
    "        print(\"Soy un animal\")\n",
    "    def comer(self):\n",
    "        print(\"Estoy comiendo\")\n",
    "        \n",
    "# Entonces, por ejemplo, si quiero crear otra instancia de la clase por ejemplo la clase Perro\n",
    "# Vemos que la clase perro comparte caracteristicas que se encuentran dentro de la clase Animal\n",
    "# por lo que podemos utilizar parte del trabajdo anterior en la nueva clase, es aquí donde entra la herencia\n",
    "\n",
    "\n",
    "# La clase dog se conoce como clase derivada porque estoy derivando algunas de las caracteristicas de la clase Animal\n",
    "class Dog(Animal): # Ahora si paso un animal voy a heredar la clase base Animal\n",
    "\n",
    "    def __init__(self):\n",
    "        \n",
    "        Animal.__init__(self)\n",
    "    \n",
    "    # Pero tambien existe la posibilidad de poder sobrescrbir los metodos de la clase base\n",
    "    # Si quitaramos este metodo, se ejecutaria el metodo con el mismo nombre de la clase base\n",
    "    def quien_soy(self):\n",
    "        \n",
    "        print(\"Soy un perro\")\n",
    "        \n",
    "    # Tambien podemos añadir nuevos metodos a la clase derivada\n",
    "    def sonido(self):\n",
    "        \n",
    "        print(\"El perro hace: Woof!\")\n",
    "\n",
    "            \n",
    "mi_perro = Dog()       "
   ]
  },
  {
   "cell_type": "code",
   "execution_count": 8,
   "metadata": {},
   "outputs": [
    {
     "name": "stdout",
     "output_type": "stream",
     "text": [
      "Soy un animal\n"
     ]
    }
   ],
   "source": [
    "mi_perro.quien_soy()"
   ]
  },
  {
   "cell_type": "code",
   "execution_count": 9,
   "metadata": {},
   "outputs": [],
   "source": [
    "# Polimorfismo\n",
    "# El polimorfismo se refiere a la forma en que diferentes clases de objetos pueden compartir el mismo nombre de metodo\n",
    "# Y luego se pueden llamar esos metodos desde el mismo lugar, aunque se puedan pasar una variedad de objetos diferentes\n",
    "# Por ejemplo:\n",
    "\n",
    "class Perro():\n",
    "    \n",
    "    def __init__(self,nombre):\n",
    "        \n",
    "        self.nombre = nombre\n",
    "        \n",
    "    def sonido(self):\n",
    "        \n",
    "        print(f\"El perro {self.nombre} ladra\")\n",
    "        \n",
    "class Gato():\n",
    "    \n",
    "    def __init__(self,nombre):\n",
    "        \n",
    "        self.nombre = nombre\n",
    "        \n",
    "    def sonido(self): # el metodo es unico para cada clase es especifico\n",
    "        \n",
    "        print(f\"El gato {self.nombre} maulla\")\n",
    "       "
   ]
  },
  {
   "cell_type": "code",
   "execution_count": 10,
   "metadata": {},
   "outputs": [],
   "source": [
    "mi_perro = Perro(\"Roberto\")\n",
    "mi_gato = Gato(\"Catalina\")"
   ]
  },
  {
   "cell_type": "code",
   "execution_count": null,
   "metadata": {},
   "outputs": [],
   "source": [
    "# Una practica mas comun es usar clases abstractas y herencia.\n",
    "# Las clases abstractas son aquellas que no espera ser instanciada\n",
    "# no espera crea una instancia de esta clase, estan diseñados solo para servir como una clase base\n",
    "\n",
    "class Animal():\n",
    "    \n",
    "    def __init__(self,nombre):\n",
    "        \n",
    "        self.nombre = nombre\n",
    "        \n",
    "    def sonido(self):\n",
    "        \n",
    "        # La palabra clave \"raise\" se utiliza para plantear una excepción.\n",
    "        raise NotImplementedError(\"Subclase debe implementrar este metodo abstracto\")\n",
    "        \n",
    "class Dog(Animal): # Herencia\n",
    "    \n",
    "    # Si no implementamos el metodo sonido saltara un fallo del \"raise\" de la excepcion\n",
    "    # lo que tenemos que hacer es que en cada clase que derive de la clase base Animal\n",
    "    # se debe sobreescribir el metodo de la clase base Animal que seria sonido, así caracterizamos\n",
    "    # casa clase derivada del resto\n",
    "    \n",
    "    def sonido(self): \n",
    "        \n",
    "        return self.nombre + \" hace woof!\"\n",
    "    \n",
    "# Algunos ejemplos mas realistas del polimorfismo puede ser \n",
    "# 1. Abrir diferentes tipos de archivos, por lo que es posible que queramos tener el nombre del metodo llamado Abrir,\n",
    "# lo cual tiene sentido si va a abrir un archivo PERO hay muchos formatos. Podria ser una clase base para abrir archivos\n",
    "# y luego tiene otras clases derivadas que abriran archivos pero especificando el formato.\n",
    "# Es decir una clase base que implemente el metodo de abrir un fichero pero con diferentes clases derivadas que se encarguen de abrir los ficheros dependiendo del formato de este"
   ]
  }
 ],
 "metadata": {
  "kernelspec": {
   "display_name": "Python 3",
   "language": "python",
   "name": "python3"
  },
  "language_info": {
   "codemirror_mode": {
    "name": "ipython",
    "version": 3
   },
   "file_extension": ".py",
   "mimetype": "text/x-python",
   "name": "python",
   "nbconvert_exporter": "python",
   "pygments_lexer": "ipython3",
   "version": "3.8.5"
  }
 },
 "nbformat": 4,
 "nbformat_minor": 4
}
