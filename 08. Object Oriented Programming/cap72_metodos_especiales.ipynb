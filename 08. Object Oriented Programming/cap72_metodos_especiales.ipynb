{
 "cells": [
  {
   "cell_type": "code",
   "execution_count": 1,
   "metadata": {},
   "outputs": [],
   "source": [
    "# Metodos especiales en Python"
   ]
  },
  {
   "cell_type": "code",
   "execution_count": 2,
   "metadata": {},
   "outputs": [],
   "source": [
    "# Los metodos especiales nos permiten usar algunas operaciones integradas en Python\n",
    "# como por ejemplo la funcion print"
   ]
  },
  {
   "cell_type": "code",
   "execution_count": 3,
   "metadata": {},
   "outputs": [],
   "source": [
    "# La pregunta es como puedo usar las funciones integradas de Python como por ejemplo len o print con mis propios objetos definidos por el usuario\n",
    "# Aqui es donde entran los metodos especiales"
   ]
  },
  {
   "cell_type": "code",
   "execution_count": 6,
   "metadata": {},
   "outputs": [
    {
     "name": "stdout",
     "output_type": "stream",
     "text": [
      "Libro de Python por Daniel con 100 paginas\n"
     ]
    },
    {
     "data": {
      "text/plain": [
       "100"
      ]
     },
     "execution_count": 6,
     "metadata": {},
     "output_type": "execute_result"
    }
   ],
   "source": [
    "# Por ejemplo:\n",
    "\n",
    "class Libro():\n",
    "    \n",
    "    def __init__(self,titulo,autor,paginas):\n",
    "        \n",
    "        self.titulo = titulo\n",
    "        self.autor = autor\n",
    "        self.paginas = paginas\n",
    "        \n",
    "    # Este metodo permite que si alguna funcion que solicite la representacion\n",
    "    # de cdenas de su clase, devolverá lo que devuelve el método __str__\n",
    "    def __str__(self):\n",
    "        \n",
    "        return f\"{self.titulo} por {self.autor} con {self.paginas} paginas\"\n",
    "    \n",
    "    # Podemos hacer lo mismo para el metodo de longitud\n",
    "    def __len__(self):\n",
    "        \n",
    "        return self.paginas # Ponemos que la longitud sea el numero de paginas porque es lo que mas sentido tiene en este ejemplo\n",
    "                            # dependiendo de la clase y los atributos del objeto pondremos una cosa u otra\n",
    "    \n",
    "    def __del__(self):\n",
    "        \n",
    "        print(\"El objeto libro ha sido eliminado\")\n",
    "    \n",
    "mi_libro = Libro(\"Libro de Python\",\"Daniel\",100)\n",
    "\n",
    "# Al utilizar ahora la funcion print, ya no aparecerá un error, lo que hará es\n",
    "# preguntar al objeto Libro si tiene una representacion en forma de String de si mismo\n",
    "# devolverá que si ya que tenemos implementado el metodo especial __str__\n",
    "print(mi_libro) \n",
    "\n",
    "len(mi_libro)"
   ]
  },
  {
   "cell_type": "code",
   "execution_count": 8,
   "metadata": {},
   "outputs": [
    {
     "name": "stdout",
     "output_type": "stream",
     "text": [
      "El objeto libro ha sido eliminado\n"
     ]
    }
   ],
   "source": [
    "# Una manera de poder borrar variables de la memoria del ordenador es:\n",
    "del mi_libro\n",
    "\n",
    "# Pero a veces es posible que queramos imprimir un informe al eliminar la variable \n",
    "# o puede que queramos hacer otras cosas cuando elimine la varibale\n"
   ]
  },
  {
   "cell_type": "code",
   "execution_count": null,
   "metadata": {},
   "outputs": [],
   "source": [
    "# Existen muchas funciones/ metodos especiales que se pueden ver en la documentacion de Python"
   ]
  }
 ],
 "metadata": {
  "kernelspec": {
   "display_name": "Python 3",
   "language": "python",
   "name": "python3"
  },
  "language_info": {
   "codemirror_mode": {
    "name": "ipython",
    "version": 3
   },
   "file_extension": ".py",
   "mimetype": "text/x-python",
   "name": "python",
   "nbconvert_exporter": "python",
   "pygments_lexer": "ipython3",
   "version": "3.8.5"
  }
 },
 "nbformat": 4,
 "nbformat_minor": 4
}
