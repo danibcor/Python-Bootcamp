{
 "cells": [
  {
   "cell_type": "code",
   "execution_count": 1,
   "metadata": {},
   "outputs": [],
   "source": [
    "# Pip install and Pypi"
   ]
  },
  {
   "cell_type": "code",
   "execution_count": 2,
   "metadata": {},
   "outputs": [],
   "source": [
    "# Seccion de modulos y paquetes"
   ]
  },
  {
   "cell_type": "code",
   "execution_count": null,
   "metadata": {},
   "outputs": [],
   "source": [
    "# PyPi es un repositorio para para paquetes Python de código abierto de terceros\n",
    "# Las bibliotecas que hemos estando utilizando hasta ahora son bibliotecas integradas \n",
    "\n",
    "# Podemos utilizar \"pip install\" en la linea de comandos para instalar estos paquetes de terceros\n",
    "\n",
    "# Un ejemplo:\n",
    "# pip install colorama\n",
    "\n",
    "# esta libreria permite utilizar texto de colores \n",
    "# from colorama import init\n",
    "# init()\n",
    "# from colorama import Fore\n",
    "# print(Fore.RED + \"Texto de prueba\")\n"
   ]
  }
 ],
 "metadata": {
  "kernelspec": {
   "display_name": "Python 3",
   "language": "python",
   "name": "python3"
  },
  "language_info": {
   "codemirror_mode": {
    "name": "ipython",
    "version": 3
   },
   "file_extension": ".py",
   "mimetype": "text/x-python",
   "name": "python",
   "nbconvert_exporter": "python",
   "pygments_lexer": "ipython3",
   "version": "3.8.5"
  }
 },
 "nbformat": 4,
 "nbformat_minor": 4
}
