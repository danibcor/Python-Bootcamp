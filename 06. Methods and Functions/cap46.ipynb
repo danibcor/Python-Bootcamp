{
 "cells": [
  {
   "cell_type": "code",
   "execution_count": 1,
   "metadata": {},
   "outputs": [
    {
     "name": "stdout",
     "output_type": "stream",
     "text": [
      "APPL -> 200\n",
      "GOOG -> 300\n",
      "MSFT -> 100\n"
     ]
    }
   ],
   "source": [
    "stock_prices = [('APPL',200),('GOOG',300),('MSFT',100)]\n",
    "\n",
    "for empresa,precio in stock_prices:\n",
    "    print(f\"{empresa} -> {precio}\")"
   ]
  },
  {
   "cell_type": "code",
   "execution_count": 7,
   "metadata": {},
   "outputs": [
    {
     "name": "stdout",
     "output_type": "stream",
     "text": [
      "El mejor empleado es Daniel con 10 horas trabajadas\n"
     ]
    }
   ],
   "source": [
    "horas_trabajo = [(\"Daniel\",10),(\"Marcos\",10),(\"Claudia\",10)]\n",
    "\n",
    "maximo = 0\n",
    "mejor = \"\"\n",
    "\n",
    "for empleado,horas in horas_trabajo:\n",
    "    if maximo < horas:\n",
    "        maximo = horas\n",
    "        mejor = empleado\n",
    "    else:\n",
    "        pass\n",
    "    \n",
    "print(f\"El mejor empleado es {mejor} con {maximo} horas trabajadas\")"
   ]
  },
  {
   "cell_type": "code",
   "execution_count": null,
   "metadata": {},
   "outputs": [],
   "source": []
  }
 ],
 "metadata": {
  "kernelspec": {
   "display_name": "Python 3",
   "language": "python",
   "name": "python3"
  },
  "language_info": {
   "codemirror_mode": {
    "name": "ipython",
    "version": 3
   },
   "file_extension": ".py",
   "mimetype": "text/x-python",
   "name": "python",
   "nbconvert_exporter": "python",
   "pygments_lexer": "ipython3",
   "version": "3.8.5"
  }
 },
 "nbformat": 4,
 "nbformat_minor": 4
}
