{
 "cells": [
  {
   "cell_type": "code",
   "execution_count": 3,
   "metadata": {},
   "outputs": [
    {
     "name": "stdout",
     "output_type": "stream",
     "text": [
      "Numero 1: 1\n",
      "Numero 2: 7\n",
      "\n",
      "\t-- OPERACIONES VALIDAS --\n",
      "\n",
      "1. Suma\n",
      "2. Resta\n",
      "3. Producto\n",
      "\n",
      "Operacion: 3\n",
      "\n",
      "Resultado de la operacion 7\n"
     ]
    }
   ],
   "source": [
    "def menu():\n",
    "    print(\"\\n\\t-- OPERACIONES VALIDAS --\\n\")\n",
    "    print(\"1. Suma\")\n",
    "    print(\"2. Resta\")\n",
    "    print(\"3. Producto\\n\")\n",
    "\n",
    "def calculador(x,y,op):\n",
    "    \n",
    "    if op == 1:\n",
    "        res = x + y\n",
    "    elif op == 2:\n",
    "        res = x - y\n",
    "    elif op == 3:\n",
    "        res = x * y\n",
    "    \n",
    "    return res\n",
    "\n",
    "x = int(input(\"Numero 1: \"))\n",
    "y = int(input(\"Numero 2: \"))\n",
    "\n",
    "menu()\n",
    "op = int(input(\"Operacion: \"))\n",
    "\n",
    "print(f\"\\nResultado de la operacion {calculador(x,y,op)}\")"
   ]
  },
  {
   "cell_type": "code",
   "execution_count": null,
   "metadata": {},
   "outputs": [],
   "source": []
  }
 ],
 "metadata": {
  "kernelspec": {
   "display_name": "Python 3",
   "language": "python",
   "name": "python3"
  },
  "language_info": {
   "codemirror_mode": {
    "name": "ipython",
    "version": 3
   },
   "file_extension": ".py",
   "mimetype": "text/x-python",
   "name": "python",
   "nbconvert_exporter": "python",
   "pygments_lexer": "ipython3",
   "version": "3.8.5"
  }
 },
 "nbformat": 4,
 "nbformat_minor": 4
}
