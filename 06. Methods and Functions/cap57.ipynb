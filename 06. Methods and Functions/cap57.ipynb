{
 "cells": [
  {
   "cell_type": "code",
   "execution_count": 1,
   "metadata": {},
   "outputs": [],
   "source": [
    "# Metodos y funciones ejercicios"
   ]
  },
  {
   "cell_type": "code",
   "execution_count": 3,
   "metadata": {},
   "outputs": [
    {
     "name": "stdout",
     "output_type": "stream",
     "text": [
      "Radio: 2\n"
     ]
    },
    {
     "data": {
      "text/plain": [
       "33.510321638291124"
      ]
     },
     "execution_count": 3,
     "metadata": {},
     "output_type": "execute_result"
    }
   ],
   "source": [
    "# Escribe una funcion que computa el volumen de una esfera dado el radio\n",
    "import math\n",
    "\n",
    "def vol(rad):\n",
    "    return (4/3) * math.pi * pow(rad,3)\n",
    "\n",
    "radio = float(input(\"Radio: \"))\n",
    "vol(radio)"
   ]
  },
  {
   "cell_type": "code",
   "execution_count": 9,
   "metadata": {},
   "outputs": [
    {
     "name": "stdout",
     "output_type": "stream",
     "text": [
      "Numero: 8\n",
      "Rango menor: 1\n",
      "Rango mayor: 5\n",
      "\n",
      "8 no esta en el rango entre 1 y 5\n"
     ]
    }
   ],
   "source": [
    "# Escribe una funcion que dado un numero te diga si se encuentra en un rango\n",
    "\n",
    "def ran_check(num,low,high):\n",
    "    \n",
    "    return num >= low and num <= high\n",
    "    # if num in range(low,high + 1)\n",
    "    \n",
    "num = int(input(\"Numero: \"))\n",
    "low = int(input(\"Rango menor: \"))\n",
    "high = int(input(\"Rango mayor: \"))\n",
    "\n",
    "if ran_check(num,low,high):\n",
    "    print(f\"\\n{num} esta en el rango entre {low} y {high}\")\n",
    "else:\n",
    "    print(f\"\\n{num} no esta en el rango entre {low} y {high}\")"
   ]
  },
  {
   "cell_type": "code",
   "execution_count": 12,
   "metadata": {},
   "outputs": [
    {
     "name": "stdout",
     "output_type": "stream",
     "text": [
      "Palabra o frase: Hello Mr. Rogers, how are you this fine Tuesday?\n",
      "\n",
      "Hay 4 caracteres en mayusculas\n",
      "\n",
      "Hay 33 caracteres en minusculas\n"
     ]
    }
   ],
   "source": [
    "# Escribe una funcion que acepta un string y calcula el numero de caracteres en mayusculas y minusculas\n",
    "\n",
    "def up_low(s):\n",
    "    \n",
    "    cont_up = 0\n",
    "    cont_low = 0\n",
    "    \n",
    "    for letra in s:\n",
    "        if letra.isupper():\n",
    "            cont_up += 1\n",
    "        elif letra.islower():\n",
    "            cont_low += 1\n",
    "            \n",
    "    return cont_up,cont_low\n",
    "    \n",
    "cadena = input(\"Palabra o frase: \")\n",
    "car_up,car_low = up_low(cadena)\n",
    "\n",
    "print(f\"\\nHay {car_up} caracteres en mayusculas\")\n",
    "print(f\"\\nHay {car_low} caracteres en minusculas\")"
   ]
  },
  {
   "cell_type": "code",
   "execution_count": 39,
   "metadata": {},
   "outputs": [
    {
     "data": {
      "text/plain": [
       "[1, 2, 3, 4, 5]"
      ]
     },
     "execution_count": 39,
     "metadata": {},
     "output_type": "execute_result"
    }
   ],
   "source": [
    "# Funcion que toma una lista y devuelve una nueva lista sin elementos repetidos\n",
    "\n",
    "def unique_list(lst):\n",
    "    \n",
    "    l = []\n",
    "    \n",
    "    for num in lst:\n",
    "        if num not in l:\n",
    "            l.append(num)\n",
    "            \n",
    "    return l\n",
    "    \n",
    "unique_list([1,1,1,1,2,2,3,3,3,3,4,5])\n"
   ]
  },
  {
   "cell_type": "code",
   "execution_count": 20,
   "metadata": {},
   "outputs": [
    {
     "data": {
      "text/plain": [
       "-24"
      ]
     },
     "execution_count": 20,
     "metadata": {},
     "output_type": "execute_result"
    }
   ],
   "source": [
    "# Funcion que multiplica todos los numeros de una lista\n",
    "\n",
    "def multiply(numeros):\n",
    "    \n",
    "    producto = 1\n",
    "    \n",
    "    for numero in numeros:\n",
    "        producto = numero * producto\n",
    "    \n",
    "    return producto\n",
    "    \n",
    "multiply([1,2,3,-4])"
   ]
  },
  {
   "cell_type": "code",
   "execution_count": 43,
   "metadata": {},
   "outputs": [
    {
     "name": "stdout",
     "output_type": "stream",
     "text": [
      "Palabra o frase: nada\n",
      "No es palindroma\n"
     ]
    }
   ],
   "source": [
    "# Funcion que comprueba si una palabra o frase en palidroma o no\n",
    "\n",
    "def car_eliminar(s):\n",
    "            \n",
    "    s = s.replace(' ','')\n",
    "    s = s.replace('.','')\n",
    "    s = s.replace(',','')\n",
    "    s = s.replace(':','')\n",
    "    s = s.lower()\n",
    "    \n",
    "    return s\n",
    "\n",
    "def palindrome(s):\n",
    "    \n",
    "    s = car_eliminar(s)\n",
    "    \n",
    "    return s[::-1] == s\n",
    "    \n",
    "s = input(\"Palabra o frase: \")\n",
    "\n",
    "if palindrome(s):\n",
    "    print(\"Es palindroma\")\n",
    "else:\n",
    "    print(\"No es palindroma\")"
   ]
  },
  {
   "cell_type": "code",
   "execution_count": 46,
   "metadata": {},
   "outputs": [
    {
     "name": "stdout",
     "output_type": "stream",
     "text": [
      "Palabra o frase: hola\n",
      "No es un pangrama\n"
     ]
    }
   ],
   "source": [
    "# Escribe una funcion que comprueba que un string es un pangrama, es un texto que usa todas las letras posibles del alfabeto de un idioma\n",
    "# Podemos utilizar los sets ya que son listas donde no se pueden repetir los elementos\n",
    "import string\n",
    "\n",
    "def car_eliminar(s):\n",
    "            \n",
    "    s = s.replace(' ','')\n",
    "    s = s.replace('.','')\n",
    "    s = s.replace(',','')\n",
    "    s = s.replace(':','')\n",
    "    s = s.lower()\n",
    "    \n",
    "    return s\n",
    "\n",
    "def ispangram(s,alf):\n",
    "    \n",
    "    s = car_eliminar(s)\n",
    "    alfs_set = set(alf)\n",
    "    s = set(s)\n",
    "    \n",
    "    return s == alfs_set\n",
    "\n",
    "alfabeto = string.ascii_lowercase\n",
    "\n",
    "s = input(\"Palabra o frase: \")\n",
    "\n",
    "if ispangram(s,alfabeto):\n",
    "    print(\"Es un pangrama\")\n",
    "else:\n",
    "    print(\"No es un pangrama\")"
   ]
  }
 ],
 "metadata": {
  "kernelspec": {
   "display_name": "Python 3",
   "language": "python",
   "name": "python3"
  },
  "language_info": {
   "codemirror_mode": {
    "name": "ipython",
    "version": 3
   },
   "file_extension": ".py",
   "mimetype": "text/x-python",
   "name": "python",
   "nbconvert_exporter": "python",
   "pygments_lexer": "ipython3",
   "version": "3.8.5"
  }
 },
 "nbformat": 4,
 "nbformat_minor": 4
}
