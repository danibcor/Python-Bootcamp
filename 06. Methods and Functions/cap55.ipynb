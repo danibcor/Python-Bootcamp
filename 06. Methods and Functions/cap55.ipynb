{
 "cells": [
  {
   "cell_type": "code",
   "execution_count": 3,
   "metadata": {},
   "outputs": [
    {
     "name": "stdout",
     "output_type": "stream",
     "text": [
      "1\n",
      "4\n",
      "9\n",
      "16\n",
      "25\n"
     ]
    },
    {
     "data": {
      "text/plain": [
       "[1, 4, 9, 16, 25]"
      ]
     },
     "execution_count": 3,
     "metadata": {},
     "output_type": "execute_result"
    }
   ],
   "source": [
    "# Expresiones Lambda, Mapas y Filtros\n",
    "# Las expresiones lambda son una manera rápida de crear lo que se conoce como funciones anonimas\n",
    "# basicamente funciones de uso de una sola ve, se hacen referencia una sola vez y ya no se vuelven a usar\n",
    "# Para entender su utilidad, primero tenemos que hablar sobre los maspas incorporados en Python y la función filtro\n",
    "\n",
    "# Primero veremos la funcion Map\n",
    "\n",
    "def square(num):\n",
    "    return pow(num,2)\n",
    "\n",
    "mis_nums = [1,2,3,4,5]\n",
    "\n",
    "# La funcion map me permite pasar la funcion que queremos asignar a cada elemento de la lista\n",
    "# lo que devuelve es la posición en memoria, ya que lo que admite es la función (primer parametro) y un iterador (segundo parametro)\n",
    "# esto iterador es un puntero a una dirección de memoria (en este caso, la dirección de memoria donde esta la lista \"mis_nums\")\n",
    "\n",
    "\n",
    "for item in map(square,mis_nums):\n",
    "    print(item)\n",
    "    \n",
    "# Otra manera de iterar puede ser:\n",
    "\n",
    "list(map(square,mis_nums))"
   ]
  },
  {
   "cell_type": "code",
   "execution_count": 4,
   "metadata": {},
   "outputs": [
    {
     "data": {
      "text/plain": [
       "['Par', 'Impar', 'Par']"
      ]
     },
     "execution_count": 4,
     "metadata": {},
     "output_type": "execute_result"
    }
   ],
   "source": [
    "# Estas funciones pueden ser mas complejas que el ejemplo anterior\n",
    "# crearemos una fucion que toma una cadena y lo que va a hacer es decir si la longitud es par o no\n",
    "\n",
    "def splicer(mystring):\n",
    "    if len(mystring)%2 == 0:\n",
    "        return \"Par\"\n",
    "    else:\n",
    "        return \"Impar\"\n",
    "    \n",
    "nombres = [\"Daniel\",\"Jorge\",\"Fran\"]\n",
    "\n",
    "list(map(splicer,nombres))"
   ]
  },
  {
   "cell_type": "code",
   "execution_count": 8,
   "metadata": {},
   "outputs": [
    {
     "data": {
      "text/plain": [
       "[2, 4, 6]"
      ]
     },
     "execution_count": 8,
     "metadata": {},
     "output_type": "execute_result"
    }
   ],
   "source": [
    "# La funcion filtro, este devuelve un iterador que produce esos elementos del iterable para el cual\n",
    "# cuando pasa el elemento a la funcion es verdadero, por lo que tiene que pasar por una funcion que devuelve\n",
    "# verdadero o falso, por ejemplo:\n",
    "\n",
    "def comprobar_par(num):\n",
    "    return num % 2 == 0\n",
    "\n",
    "numeros = [1,2,3,4,5,6]\n",
    "\n",
    "# La principla diferencia con map, es que Map mapea la funcion para cada uno de los elementos, devolviendo\n",
    "# todos los elementos mientras que Filter filtra dependiendo de la función\n",
    "\n",
    "list(filter(comprobar_par,numeros))\n"
   ]
  },
  {
   "cell_type": "code",
   "execution_count": 1,
   "metadata": {},
   "outputs": [
    {
     "data": {
      "text/plain": [
       "9"
      ]
     },
     "execution_count": 1,
     "metadata": {},
     "output_type": "execute_result"
    }
   ],
   "source": [
    "# Una vez que hemos visto las funciones MAP y Filter podemos hablar sobre las expresiones lambda\n",
    "# Como primer ejemplo cogeremos una funcion cualquiera como ejemplo para ir convirtiendola\n",
    "# en una funcion lambda\n",
    "\n",
    "def cuadrado(num):\n",
    "    res = pow(num,2)\n",
    "    return res\n",
    "\n",
    "cuadrado(3)"
   ]
  },
  {
   "cell_type": "code",
   "execution_count": 3,
   "metadata": {},
   "outputs": [
    {
     "data": {
      "text/plain": [
       "[1, 4, 9, 16, 25]"
      ]
     },
     "execution_count": 3,
     "metadata": {},
     "output_type": "execute_result"
    }
   ],
   "source": [
    "# La funcion anterior se puede simplificar a la siguiente forma:\n",
    "\n",
    "def cuadrado(num):\n",
    "    return pow(num,2)\n",
    "\n",
    "# incluso podriamos expresarlo en una sola linea\n",
    "\n",
    "\n",
    "def cuadrado(num): return pow(num,2)\n",
    "\n",
    "# Ahora estamos casi en la forma de una expresion lambda. La expresion lambda tambien se conoce como una funcion\n",
    "# anonima y la razon de esto se debe a que es una funcionalidad que intenta utilizar solo una vez,\n",
    "# debido que en realidad no le damos un nombre\n",
    "\n",
    "lambda num: pow(num,2)\n",
    "\n",
    "# En la funcion lambda no utilizamos el return porque asumimos que queremos devolver lo que hay despues de los\n",
    "# dos puntos. Ahora la funcion lamba la podria asignarla a una variable\n",
    "\n",
    "cuadrado = lambda num: pow(num,2)\n",
    "\n",
    "# Hemos dicho que las funciones lambda son funciones anonimas y normalmente no las nombramos, así que normalmente\n",
    "# no asignariamos a una variable la funcino lambda, en cambio, la utilizariamos junto con otras funciones\n",
    "# como Maps o Filter\n",
    "\n",
    "mis_nums = [1,2,3,4,5]\n",
    "\n",
    "list(map(lambda num: pow(num,2),mis_nums))"
   ]
  },
  {
   "cell_type": "code",
   "execution_count": 6,
   "metadata": {},
   "outputs": [
    {
     "data": {
      "text/plain": [
       "[2, 4]"
      ]
     },
     "execution_count": 6,
     "metadata": {},
     "output_type": "execute_result"
    }
   ],
   "source": [
    "# Otro ejemplo usando la funcion Filter\n",
    "\n",
    "list(filter(lambda num: num % 2 == 0,mis_nums))"
   ]
  },
  {
   "cell_type": "code",
   "execution_count": 8,
   "metadata": {},
   "outputs": [],
   "source": [
    "nombres = [\"Daniel\",\"Jorge\",\"Fran\"]"
   ]
  },
  {
   "cell_type": "code",
   "execution_count": 11,
   "metadata": {},
   "outputs": [
    {
     "data": {
      "text/plain": [
       "['D', 'J', 'F']"
      ]
     },
     "execution_count": 11,
     "metadata": {},
     "output_type": "execute_result"
    }
   ],
   "source": [
    "list(map(lambda palabra: palabra[0],nombres))"
   ]
  },
  {
   "cell_type": "code",
   "execution_count": null,
   "metadata": {},
   "outputs": [],
   "source": [
    "# Tener en cuenta que podemos pasar multiples argumentos en la expresion lambda pero lo más comodo\n",
    "# es usar expresiones lambda cuando todavia podamos leerlas facilmente, con la intencion de volver\n",
    "# a su codigo mas adelante"
   ]
  }
 ],
 "metadata": {
  "kernelspec": {
   "display_name": "Python 3",
   "language": "python",
   "name": "python3"
  },
  "language_info": {
   "codemirror_mode": {
    "name": "ipython",
    "version": 3
   },
   "file_extension": ".py",
   "mimetype": "text/x-python",
   "name": "python",
   "nbconvert_exporter": "python",
   "pygments_lexer": "ipython3",
   "version": "3.8.5"
  }
 },
 "nbformat": 4,
 "nbformat_minor": 4
}
