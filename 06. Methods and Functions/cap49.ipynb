{
 "cells": [
  {
   "cell_type": "code",
   "execution_count": 1,
   "metadata": {},
   "outputs": [],
   "source": [
    "# *args y **kwargs, representan argumentos y argumentos de palabras claves, se utilizan para obtener\n",
    "# numeros arbitrarios de argumentos al usar funciones en Python sin tener que predefinir un conjunto\n",
    "# de parametros en las llamadas a funciones"
   ]
  },
  {
   "cell_type": "code",
   "execution_count": 2,
   "metadata": {},
   "outputs": [
    {
     "data": {
      "text/plain": [
       "5.0"
      ]
     },
     "execution_count": 2,
     "metadata": {},
     "output_type": "execute_result"
    }
   ],
   "source": [
    "#Por ejemplo\n",
    "def mifuncion(a,b): # a y b son argumentos posicionales \n",
    "    return sum((a,b)) * 0.05\n",
    "\n",
    "mifuncion(40,60) # el primer argumento se asigna en a y el segundo a b"
   ]
  },
  {
   "cell_type": "code",
   "execution_count": 3,
   "metadata": {},
   "outputs": [],
   "source": [
    "# Pero que pasa si queremos trabajar con la funcion con mas de dos numeros, una de las opciones seria\n",
    "# trabajar asignando una gran cantidad de parametros y asignarle un valor por defecto en el caso de que ese valor\n",
    "# no sea introducido por el usuario, es decir:\n",
    "\n",
    "def mifuncion(a,b,c = 0): # si el usuario no mete un parametro c, este será 0\n",
    "    return sum((a,b,c)) * 0.05\n",
    "\n",
    "# Es entonces en estos casos donde utilizaremos *args, ya que nos permitira configurar esto para tomar\n",
    "# una cantidad arbitraria de argumentos "
   ]
  },
  {
   "cell_type": "code",
   "execution_count": 4,
   "metadata": {},
   "outputs": [],
   "source": [
    "def mifunction(*args): # Lo que me permite es tratar esto como una tupla de parametros que estan entrando\n",
    "    return sum(args) * 0.05\n",
    "# Ahora puedo pasar tantos argumentos como quiera. Por defecto Python toma todos los parametros que se pasan\n",
    "# y configurarlos para que esten dentro de una tupla\n"
   ]
  },
  {
   "cell_type": "code",
   "execution_count": 5,
   "metadata": {},
   "outputs": [],
   "source": [
    "# Tener en cuenta que el termino \"args\" esta elegido por convencion por lo que puede ser sustituido por\n",
    "# cualquier otra palabra clave que se desee"
   ]
  },
  {
   "cell_type": "code",
   "execution_count": 9,
   "metadata": {},
   "outputs": [
    {
     "name": "stdout",
     "output_type": "stream",
     "text": [
      "1 es impar\n",
      "2 es par\n",
      "3 es impar\n",
      "4 es par\n",
      "5 es impar\n",
      "6 es par\n",
      "7 es impar\n",
      "8 es par\n",
      "9 es impar\n"
     ]
    }
   ],
   "source": [
    "def par(*args):\n",
    "    for numeros in args:\n",
    "        if numeros % 2 == 0:\n",
    "            print(f\"{numeros} es par\")\n",
    "        else:\n",
    "            print(f\"{numeros} es impar\")\n",
    "            \n",
    "par(1,2,3,4,5,6,7,8,9)"
   ]
  },
  {
   "cell_type": "code",
   "execution_count": 15,
   "metadata": {},
   "outputs": [
    {
     "name": "stdout",
     "output_type": "stream",
     "text": [
      "Mi fruta favorita es la manzana\n",
      "Mi verdura favorita es la zanahoria\n"
     ]
    }
   ],
   "source": [
    "# De forma similar, Pyhon ofrece una forma de manejar una cantidad arbitraria de argumentos de palabras clave\n",
    "# en vez de crear una tupla de valores, usamos **kwargs que construyen un diccionarios de pares clave de valores\n",
    "def mifuncion(**kwargs):\n",
    "    if 'fruta' in kwargs:\n",
    "        print(f\"Mi fruta favorita es la {kwargs['fruta']}\")\n",
    "    else:\n",
    "        print(\"No se encontro la fruta\")\n",
    "    \n",
    "    if 'verduras' in kwargs:\n",
    "        print(f\"Mi verdura favorita es la {kwargs['verduras']}\")\n",
    "    else:\n",
    "        print(\"No se encontro la verdura\")\n",
    "        \n",
    "mifuncion(fruta = 'manzana',verduras = 'zanahoria') # El usuario podra definir los parametros que desee y podra\n",
    "                                                    # llamarlos y usarlos dentro de la funcion\n",
    "    "
   ]
  },
  {
   "cell_type": "code",
   "execution_count": 16,
   "metadata": {},
   "outputs": [],
   "source": [
    "# Al igual que el termino \"args\", \"kwargs\" tambien es escogido por convencion asi que puede ser sustituido por cualquier\n",
    "# termino, aunque es recomendable usar \"args\" y \"kwargs\""
   ]
  },
  {
   "cell_type": "code",
   "execution_count": 17,
   "metadata": {},
   "outputs": [
    {
     "name": "stdout",
     "output_type": "stream",
     "text": [
      "Tengo 1 coneja llamada Misifu\n"
     ]
    }
   ],
   "source": [
    "# Tambien podemos crear funcion que convinen los *args con con **kwargs, por ejemplo\n",
    "\n",
    "def mifuncion(*args,**kwargs):\n",
    "    print(f\"Tengo {args[0]} coneja llamada {kwargs['animal']}\")\n",
    "    \n",
    "mifuncion(1,2,3,4,fruta = \"manzana\",verdurra = \"zanahoria\",animal = \"Misifu\")\n",
    "\n",
    "# Esto es muy util cuando se empleen bibliotecas externas.\n",
    "# A tener en cuenta que el orden en el que se pasan los parametros a la hora de llamar a la funcion\n",
    "# es importante, SE DEBE MANTENER DICHO ORDEN, sino Python saltara con un error"
   ]
  },
  {
   "cell_type": "code",
   "execution_count": null,
   "metadata": {},
   "outputs": [],
   "source": []
  }
 ],
 "metadata": {
  "kernelspec": {
   "display_name": "Python 3",
   "language": "python",
   "name": "python3"
  },
  "language_info": {
   "codemirror_mode": {
    "name": "ipython",
    "version": 3
   },
   "file_extension": ".py",
   "mimetype": "text/x-python",
   "name": "python",
   "nbconvert_exporter": "python",
   "pygments_lexer": "ipython3",
   "version": "3.8.5"
  }
 },
 "nbformat": 4,
 "nbformat_minor": 4
}
