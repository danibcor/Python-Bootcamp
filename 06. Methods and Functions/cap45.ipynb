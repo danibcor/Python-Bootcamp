{
 "cells": [
  {
   "cell_type": "code",
   "execution_count": 3,
   "metadata": {},
   "outputs": [
    {
     "name": "stdout",
     "output_type": "stream",
     "text": [
      "Numero: 3\n",
      "El numero 3 no es par\n"
     ]
    }
   ],
   "source": [
    "def esPar(num):\n",
    "    return (num % 2 == 0)\n",
    "\n",
    "num = int(input(\"Numero: \"))\n",
    "\n",
    "if esPar(num):\n",
    "    print(f\"El numero {num} es par\")\n",
    "else:\n",
    "    print(f\"El numero {num} no es par\")"
   ]
  },
  {
   "cell_type": "code",
   "execution_count": 11,
   "metadata": {},
   "outputs": [
    {
     "name": "stdout",
     "output_type": "stream",
     "text": [
      "Numero de elementos de la lista: 3\n",
      "Valor [0]: 1\n",
      "Valor [1]: 2\n",
      "Valor [2]: 3\n",
      "1 es Impar\n",
      "2 es Par\n",
      "3 es Impar\n"
     ]
    }
   ],
   "source": [
    "num_elem = int(input(\"Numero de elementos de la lista: \"))\n",
    "\n",
    "lista = []\n",
    "\n",
    "for indice in range(0,num_elem):\n",
    "    lista.append(int(input(f\"Valor [{indice}]: \")))\n",
    "    \n",
    "for numero in lista:\n",
    "    if esPar(numero):\n",
    "        print(f\"{numero} es Par\")\n",
    "    else:\n",
    "        print(f\"{numero} es Impar\")"
   ]
  },
  {
   "cell_type": "code",
   "execution_count": 12,
   "metadata": {},
   "outputs": [
    {
     "name": "stdout",
     "output_type": "stream",
     "text": [
      "Numero de elementos de la lista: 10\n",
      "Valor [0]: 1\n",
      "Valor [1]: 2\n",
      "Valor [2]: 3\n",
      "Valor [3]: 4\n",
      "Valor [4]: 5\n",
      "Valor [5]: 6\n",
      "Valor [6]: 7\n",
      "Valor [7]: 8\n",
      "Valor [8]: 9\n",
      "Valor [9]: 10\n",
      "[2, 4, 6, 8, 10]\n"
     ]
    }
   ],
   "source": [
    "def lista_pares(lista):\n",
    "    \n",
    "    lista_res = []\n",
    "    \n",
    "    for numeros in lista:\n",
    "        if numeros % 2 == 0:\n",
    "            lista_res.append(numeros)\n",
    "        else:\n",
    "            pass\n",
    "        \n",
    "    return lista_res\n",
    "\n",
    "num_elem = int(input(\"Numero de elementos de la lista: \"))\n",
    "\n",
    "lista = []\n",
    "\n",
    "for indice in range(0,num_elem):\n",
    "    lista.append(int(input(f\"Valor [{indice}]: \")))\n",
    "    \n",
    "print(lista_pares(lista))"
   ]
  },
  {
   "cell_type": "code",
   "execution_count": null,
   "metadata": {},
   "outputs": [],
   "source": []
  }
 ],
 "metadata": {
  "kernelspec": {
   "display_name": "Python 3",
   "language": "python",
   "name": "python3"
  },
  "language_info": {
   "codemirror_mode": {
    "name": "ipython",
    "version": 3
   },
   "file_extension": ".py",
   "mimetype": "text/x-python",
   "name": "python",
   "nbconvert_exporter": "python",
   "pygments_lexer": "ipython3",
   "version": "3.8.5"
  }
 },
 "nbformat": 4,
 "nbformat_minor": 4
}
