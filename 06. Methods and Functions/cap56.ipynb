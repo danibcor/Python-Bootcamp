{
 "cells": [
  {
   "cell_type": "code",
   "execution_count": 1,
   "metadata": {},
   "outputs": [
    {
     "name": "stdout",
     "output_type": "stream",
     "text": [
      "25\n",
      "50\n"
     ]
    }
   ],
   "source": [
    "# Nested statements (declaraciones anidadas) y Scope (alcance)\n",
    "\n",
    "# Ya hemos tratado con funciones pero es importante comprender como trata Python los nombres de variables\n",
    "# que asigna cuando crea un nombre de variable. Ese nombre se alamcena en lo que se denomina el espacio de nombres\n",
    "# y los nombres de variables tambien tienen un alcance y el alcance determina la visibilidad de ese nombre\n",
    "# de variable a otras partes del codigo.\n",
    "\n",
    "# Un ejemplo claro del alcance de las variables sería:\n",
    "\n",
    "x = 25\n",
    "\n",
    "def printer():\n",
    "    x = 50\n",
    "    return x\n",
    "\n",
    "print(x) # devuelve 25\n",
    "print(printer()) # devuelve 50\n",
    "\n",
    "# Aqui vemos que es interesante como Python interoreta las asignaciones de las variables, \n",
    "# ver el por qué la reasignación de la funcion \"printer\" no afecta a la asginacion que aparece antes (x = 25),\n",
    "# teniendo el mismo nombre de variable. Esto viene por la idea del alcance el cual permite que Python comprenda\n",
    "# que tiene un conjunto de reglas para decidir a que variables hace referencia en el codigo.\n",
    "# Esas reglas se acortan por las siglas \"LEGB\" rule\n",
    "\n",
    "# L: Espacio de nombre local - nombres asignados de alguna manera dentro de una función (def o lambda) y \n",
    "# no se declara global en esa función\n",
    "\n",
    "# E: función de encierro local - nombres en el ámbito local de cualquier y toda función de encierro (def o lambda), \n",
    "# de interior a exterior.\n",
    "\n",
    "# G: Global(modulo) - nombres asignados en el nivel superior de un archivo de módulo, \n",
    "# o declarados globales en un def dentro del archivo.\n",
    "\n",
    "# B: Built-in (Python) - nombres preasignados en el módulo de nombres incorporado: open,range,SyntaxError\n",
    "\n",
    "# Este es el orden en el que Python buscara las variable"
   ]
  },
  {
   "cell_type": "code",
   "execution_count": 3,
   "metadata": {},
   "outputs": [
    {
     "name": "stdout",
     "output_type": "stream",
     "text": [
      "Hola Daniel\n",
      "Hola Esto es un string global\n"
     ]
    }
   ],
   "source": [
    "# Ejemplo Local\n",
    "lambda num:num**2 # num es local a la expresion lambda\n",
    "\n",
    "# Ahora pondremos un ejemplo donde veremos muy bien el orden\n",
    "\n",
    "nombre = \"Esto es un string global\"\n",
    "\n",
    "def prueba():\n",
    "    \n",
    "    nombre = \"Daniel\"\n",
    "    \n",
    "    def hola():\n",
    "        print(f\"Hola {nombre}\")\n",
    "    \n",
    "    hola()\n",
    "    \n",
    "prueba()\n",
    "\n",
    "# En la funcion anterior vemos que a la hora de llamar a la funcion prueba, tenemos definida otra funcion \"hola\",\n",
    "# la cual hace uso de una variable \"nombre\" que debe buscar, primero busca una variable local, la cual no está\n",
    "# luego pasa a buscar la variable el la funcion que encierra a la funcion \"hola\", es decir, busca la variable \"nombre\"\n",
    "# en \"prueba\" y lo ha encontrado. \n",
    "\n",
    "nombre = \"Esto es un string global\"\n",
    "\n",
    "def prueba():\n",
    "    \n",
    "    def hola():\n",
    "        print(f\"Hola {nombre}\")\n",
    "    \n",
    "    hola()\n",
    "    \n",
    "prueba()\n",
    "\n",
    "# Ahora vemos que el siguiente caso es muy parecido pero, si seguimos los pasos anteriores, a la hora de buscar \n",
    "# la variable dentro de la funcion de encierro local (E) que sería \"prueba\", tampoco se encuentra definida\n",
    "# la variable nombre, por lo que el siguiente paso es buscar una variable global, y vemos que existe"
   ]
  },
  {
   "cell_type": "code",
   "execution_count": 4,
   "metadata": {},
   "outputs": [
    {
     "name": "stdout",
     "output_type": "stream",
     "text": [
      "Hola Carlitos\n"
     ]
    }
   ],
   "source": [
    "# Entonces vemos que la estructura de la funcion sería algo tal que así\n",
    "\n",
    "# VARIABLE GLOBAL\n",
    "nombre = \"Esto es un string global\"\n",
    "\n",
    "def prueba():\n",
    "    \n",
    "    # VARIABLE DE ENCIERRO LOCAL\n",
    "    nombre = \"Daniel\"\n",
    "    \n",
    "    def hola():\n",
    "        \n",
    "        #VARIABLE LOCAL\n",
    "        nombre = \"Carlitos\"\n",
    "        print(f\"Hola {nombre}\")\n",
    "    \n",
    "    hola()\n",
    "    \n",
    "prueba()"
   ]
  },
  {
   "cell_type": "code",
   "execution_count": 9,
   "metadata": {},
   "outputs": [
    {
     "name": "stdout",
     "output_type": "stream",
     "text": [
      "Valor de x antes 50\n",
      "Valor de x despues 200\n",
      "Valor de x fuera 50\n"
     ]
    }
   ],
   "source": [
    "# Ahora veremos que ocurre al reasignar una variable global dentro de una funcion\n",
    "\n",
    "x = 50\n",
    "\n",
    "def prueba(x):\n",
    "    \n",
    "    print(f\"Valor de x antes {x}\")\n",
    "    \n",
    "    x = 200\n",
    "    \n",
    "    print(f\"Valor de x despues {x}\")\n",
    "    \n",
    "\n",
    "prueba(x)\n",
    "print(f\"Valor de x fuera {x}\")\n",
    "\n",
    "# Vemos que la reasignacion, por el alcance, solo de mantiene dentro de la funcion, una vez que salimos\n",
    "# el valor de variable mantendrá el mismo valor que se le asignó al comienzo"
   ]
  },
  {
   "cell_type": "code",
   "execution_count": 11,
   "metadata": {},
   "outputs": [
    {
     "name": "stdout",
     "output_type": "stream",
     "text": [
      "Valor de x antes 50\n",
      "Valor de x despues 200\n",
      "Valor de x fuera 200\n"
     ]
    }
   ],
   "source": [
    "# Pero en el caso de que queramos modificar una variable global dentro de una funcion podemos:\n",
    "\n",
    "x = 50\n",
    "\n",
    "def prueba():\n",
    "    \n",
    "    global x # De esta forma estamos cogiendo del nivel global la variable x para llevarlo al nivel local\n",
    "            # y asi poder reasignar su valor\n",
    "    \n",
    "    print(f\"Valor de x antes {x}\")\n",
    "    \n",
    "    x = 200\n",
    "    \n",
    "    print(f\"Valor de x despues {x}\")\n",
    "    \n",
    "\n",
    "prueba()\n",
    "print(f\"Valor de x fuera {x}\")"
   ]
  },
  {
   "cell_type": "code",
   "execution_count": 12,
   "metadata": {},
   "outputs": [
    {
     "name": "stdout",
     "output_type": "stream",
     "text": [
      "Valor de x antes 50\n",
      "Valor de x despues 200\n",
      "Valor de x fuera 200\n"
     ]
    }
   ],
   "source": [
    "# Pero hay que evitar usar la palabra clave global a menos que sea absolutamente necesario,\n",
    "# sería más correcto el devolver un objeto (return) y luego asignarlo a la variable, ya que es mucho\n",
    "# mas seguro ya que conforme el codigo se haga mas grande y se tengan secuencias de comandos\n",
    "# separados que interactuen entre si, accidentalmente podemos sobreecribir la palabra clave global\n",
    "# dentro de una funcion sin siquiera saberlo. La forma más adecuada:\n",
    "\n",
    "\n",
    "x = 50\n",
    "\n",
    "def prueba(x):\n",
    "    \n",
    "    print(f\"Valor de x antes {x}\")\n",
    "    \n",
    "    x = 200\n",
    "    \n",
    "    print(f\"Valor de x despues {x}\")\n",
    "    \n",
    "    return x\n",
    "    \n",
    "\n",
    "x = prueba(x)\n",
    "print(f\"Valor de x fuera {x}\")"
   ]
  },
  {
   "cell_type": "code",
   "execution_count": null,
   "metadata": {},
   "outputs": [],
   "source": []
  }
 ],
 "metadata": {
  "kernelspec": {
   "display_name": "Python 3",
   "language": "python",
   "name": "python3"
  },
  "language_info": {
   "codemirror_mode": {
    "name": "ipython",
    "version": 3
   },
   "file_extension": ".py",
   "mimetype": "text/x-python",
   "name": "python",
   "nbconvert_exporter": "python",
   "pygments_lexer": "ipython3",
   "version": "3.8.5"
  }
 },
 "nbformat": 4,
 "nbformat_minor": 4
}
