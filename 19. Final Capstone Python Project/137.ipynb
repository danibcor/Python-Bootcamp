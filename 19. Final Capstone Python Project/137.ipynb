{
 "cells": [
  {
   "cell_type": "code",
   "execution_count": 6,
   "metadata": {},
   "outputs": [
    {
     "name": "stdout",
     "output_type": "stream",
     "text": [
      "Introduce un numero: 21\n",
      "21 : 10946\n"
     ]
    }
   ],
   "source": [
    "fibonacci_diccionario = {}\n",
    "\n",
    "def fibonacci(x):\n",
    "    \n",
    "    contador = 0\n",
    "    \n",
    "    if x in fibonacci_diccionario:\n",
    "            return fibonacci_diccionario[x]\n",
    "    else:\n",
    "        \n",
    "        while contador != x:\n",
    "\n",
    "            if x == 1 or x == 2:\n",
    "                valor = 1\n",
    "            else:\n",
    "                valor = fibonacci(x-1) + fibonacci(x-2) # Haciendo uso de recursion\n",
    "\n",
    "            fibonacci_diccionario[x] = valor\n",
    "\n",
    "            contador += 1\n",
    "        \n",
    "    return valor\n",
    "\n",
    "numero = int(input(\"Introduce un numero: \"))\n",
    "print(f\"{numero} : {fibonacci(numero)}\")"
   ]
  },
  {
   "cell_type": "code",
   "execution_count": 7,
   "metadata": {},
   "outputs": [
    {
     "name": "stdout",
     "output_type": "stream",
     "text": [
      "Introduce un numero: 21\n",
      "21 : 10946\n"
     ]
    }
   ],
   "source": [
    "numero = int(input(\"Introduce un numero: \"))\n",
    "print(f\"{numero} : {fibonacci(numero)}\")"
   ]
  },
  {
   "cell_type": "code",
   "execution_count": null,
   "metadata": {},
   "outputs": [],
   "source": []
  }
 ],
 "metadata": {
  "kernelspec": {
   "display_name": "Python 3",
   "language": "python",
   "name": "python3"
  },
  "language_info": {
   "codemirror_mode": {
    "name": "ipython",
    "version": 3
   },
   "file_extension": ".py",
   "mimetype": "text/x-python",
   "name": "python",
   "nbconvert_exporter": "python",
   "pygments_lexer": "ipython3",
   "version": "3.8.5"
  }
 },
 "nbformat": 4,
 "nbformat_minor": 4
}
