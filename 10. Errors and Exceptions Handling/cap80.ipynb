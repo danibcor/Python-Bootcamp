{
 "cells": [
  {
   "cell_type": "code",
   "execution_count": 1,
   "metadata": {},
   "outputs": [],
   "source": [
    "# errores y manejo de excepciones"
   ]
  },
  {
   "cell_type": "code",
   "execution_count": 2,
   "metadata": {},
   "outputs": [],
   "source": [
    "# podemos usar el manejo de errores en un intento de planificar posibles errores que puedan surgir en nuestro codigo"
   ]
  },
  {
   "cell_type": "code",
   "execution_count": 4,
   "metadata": {},
   "outputs": [],
   "source": [
    "# Por ejemplo, un usuario intenta escribir en un fichero que sse ha abierto en modo = 'r' (modo de solo lectura)\n",
    "# Entonces si no hay ningún tipo de declaración del rror en el codigo, el programa entero parará\n",
    "# Por eso utilizamos el manejor de excepciones ya que permiten continuar el programa, reportar ese error,\n",
    "# y seguir con otro codigo "
   ]
  },
  {
   "cell_type": "code",
   "execution_count": 5,
   "metadata": {},
   "outputs": [],
   "source": [
    "# Hay 3 palabras claves para el manejo de errores:\n",
    "# try: este es el bloque de código que se intentará (puede llevar a un error)\n",
    "# except: bloque de código se ejecutará en caso de que haya un error en el bloque de prueba (try)\n",
    "# finally: un bloque final de código para ser ejecutado, independientemente de un error"
   ]
  },
  {
   "cell_type": "code",
   "execution_count": 7,
   "metadata": {},
   "outputs": [
    {
     "name": "stdout",
     "output_type": "stream",
     "text": [
      "Parece que no estás sumando valores correctos\n"
     ]
    }
   ],
   "source": [
    "try:\n",
    "    resultado = 10 + 10\n",
    "except:\n",
    "    print(\"Parece que no estás sumando valores correctos\")\n",
    "else:\n",
    "    print(resultado)\n",
    "    print(\"Todo fue correcto\")"
   ]
  },
  {
   "cell_type": "code",
   "execution_count": 8,
   "metadata": {},
   "outputs": [
    {
     "name": "stdout",
     "output_type": "stream",
     "text": [
      "Hubo un fallo en otro tipo de excepciones\n",
      "De todos modos segui ejecutando el codigo\n"
     ]
    }
   ],
   "source": [
    "try:\n",
    "    f.open(\"fichero\",'w')\n",
    "    f.write(\"Linea de prueba\")\n",
    "    \n",
    "    # lo mas comun es mostrar diferentes mensajes dependiendo del error introducido\n",
    "    \n",
    "except TypeError: \n",
    "    print(\"Hubo un problema con el tipo\")\n",
    "except OSError: # Esta excepción se plantea cuando una función del sistema devuelve un error relacionado \n",
    "                # con el sistema, incluidos fallos de E/S como \"archivo no encontrado\" o \"disco lleno\" \n",
    "                # (no para tipos de argumentos ilegales u otros errores incidentales)\n",
    "    print(\"Hubo un error de OSError\")\n",
    "except:\n",
    "    \n",
    "    print(\"Hubo un fallo en otro tipo de excepciones\")\n",
    "    \n",
    "finally:\n",
    "    print(\"De todos modos segui ejecutando el codigo\")\n",
    "    "
   ]
  },
  {
   "cell_type": "code",
   "execution_count": 14,
   "metadata": {},
   "outputs": [
    {
     "name": "stdout",
     "output_type": "stream",
     "text": [
      "Introduce un numero entero: a\n",
      "El valor introducido no es un numero\n",
      "Introduce un numero entero: '\n",
      "El valor introducido no es un numero\n",
      "Introduce un numero entero: 20\n",
      "El valor 20 es un valor correcto\n"
     ]
    }
   ],
   "source": [
    "def introducir_entero():\n",
    "    \n",
    "    while True:\n",
    "        try:\n",
    "            valor = int(input(\"Introduce un numero entero: \"))\n",
    "        except: \n",
    "            print(\"El valor introducido no es un numero\")\n",
    "        else:\n",
    "            print(f\"El valor {valor} es un valor correcto\")\n",
    "            break;\n",
    "        \n",
    "introducir_entero()"
   ]
  },
  {
   "cell_type": "code",
   "execution_count": null,
   "metadata": {},
   "outputs": [],
   "source": []
  }
 ],
 "metadata": {
  "kernelspec": {
   "display_name": "Python 3",
   "language": "python",
   "name": "python3"
  },
  "language_info": {
   "codemirror_mode": {
    "name": "ipython",
    "version": 3
   },
   "file_extension": ".py",
   "mimetype": "text/x-python",
   "name": "python",
   "nbconvert_exporter": "python",
   "pygments_lexer": "ipython3",
   "version": "3.8.5"
  }
 },
 "nbformat": 4,
 "nbformat_minor": 4
}
