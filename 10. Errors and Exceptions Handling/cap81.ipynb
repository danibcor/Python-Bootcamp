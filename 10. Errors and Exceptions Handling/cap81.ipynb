{
 "cells": [
  {
   "cell_type": "code",
   "execution_count": 14,
   "metadata": {},
   "outputs": [
    {
     "name": "stdout",
     "output_type": "stream",
     "text": [
      "Los valores de la lista no son validos\n",
      "1,4,9\n"
     ]
    }
   ],
   "source": [
    "# Problema 1\n",
    "\n",
    "def funcion(lista):\n",
    "    \n",
    "    try: \n",
    "        for i in range(0,len(lista)):\n",
    "            if i < len(lista) - 1:\n",
    "                print(pow(lista[i],2),end=\",\")\n",
    "            else:\n",
    "                print(pow(lista[i],2))\n",
    "    except:\n",
    "        print(\"Los valores de la lista no son validos\")\n",
    "    \n",
    "\n",
    "funcion(['a','b','c'])\n",
    "funcion([1,2,3])"
   ]
  },
  {
   "cell_type": "code",
   "execution_count": 17,
   "metadata": {},
   "outputs": [
    {
     "name": "stdout",
     "output_type": "stream",
     "text": [
      "Valor 1: 5\n",
      "Valor 2: 0\n",
      "Has divido entre 0\n",
      "Valor 1: 5\n",
      "Valor 2: 5\n",
      "Resultado: 1.0\n"
     ]
    }
   ],
   "source": [
    "# Problema 2\n",
    "\n",
    "def funcion():\n",
    "    \n",
    "    while True:\n",
    "        try:  \n",
    "            x = int(input(\"Valor 1: \"))\n",
    "            y = int(input(\"Valor 2: \"))\n",
    "            z = x / y\n",
    "        except ZeroDivisionError:\n",
    "            print(\"Has divido entre 0\")\n",
    "        except:\n",
    "            print(\"Uno de los valores introducidos no es valido\")\n",
    "        else:\n",
    "            print(f\"Resultado: {z}\")\n",
    "            break;\n",
    "            \n",
    "funcion()"
   ]
  },
  {
   "cell_type": "code",
   "execution_count": 19,
   "metadata": {},
   "outputs": [
    {
     "name": "stdout",
     "output_type": "stream",
     "text": [
      "Entroduce un numero: a\n",
      "Valor no valido\n",
      "Entroduce un numero: jasdfas asdf\n",
      "Valor no valido\n",
      "Entroduce un numero: +\n",
      "Valor no valido\n",
      "Entroduce un numero: 10\n",
      "Resultado: 100.0\n"
     ]
    }
   ],
   "source": [
    "# Problema 3\n",
    "\n",
    "def funcion():\n",
    "    \n",
    "    while True:\n",
    "        try:\n",
    "            n = float(input(\"Entroduce un numero: \"))\n",
    "            doble = pow(n,2)\n",
    "        except:\n",
    "            print(\"Valor no valido\")\n",
    "        else:\n",
    "            print(f\"Resultado: {doble}\")\n",
    "            break;\n",
    "            \n",
    "funcion()"
   ]
  },
  {
   "cell_type": "code",
   "execution_count": null,
   "metadata": {},
   "outputs": [],
   "source": []
  }
 ],
 "metadata": {
  "kernelspec": {
   "display_name": "Python 3",
   "language": "python",
   "name": "python3"
  },
  "language_info": {
   "codemirror_mode": {
    "name": "ipython",
    "version": 3
   },
   "file_extension": ".py",
   "mimetype": "text/x-python",
   "name": "python",
   "nbconvert_exporter": "python",
   "pygments_lexer": "ipython3",
   "version": "3.8.5"
  }
 },
 "nbformat": 4,
 "nbformat_minor": 4
}
