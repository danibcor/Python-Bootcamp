{
 "cells": [
  {
   "cell_type": "code",
   "execution_count": 15,
   "metadata": {},
   "outputs": [
    {
     "name": "stdout",
     "output_type": "stream",
     "text": [
      "Elige una posicion para remplazar ['1', '2', '3']:1\n",
      "Escribe un string para remplazar en la posicion: hola\n",
      "La lista actualmente ['1', 'hola', '3']\n",
      "Quiere seguir jugando?: q\n",
      "Opcion no valida\n",
      "Quiere seguir jugando?: w\n",
      "Opcion no valida\n",
      "Quiere seguir jugando?: e\n",
      "Opcion no valida\n",
      "Quiere seguir jugando?: r\n",
      "Opcion no valida\n",
      "Quiere seguir jugando?: t\n",
      "Opcion no valida\n",
      "Quiere seguir jugando?: y\n",
      "Opcion no valida\n",
      "Quiere seguir jugando?: +\n",
      "Opcion no valida\n",
      "Quiere seguir jugando?: 1\n",
      "Opcion no valida\n",
      "Quiere seguir jugando?: 23\n",
      "Opcion no valida\n",
      "Quiere seguir jugando?: 4\n",
      "Opcion no valida\n",
      "Quiere seguir jugando?: 5\n",
      "Opcion no valida\n",
      "Quiere seguir jugando?: s\n",
      "Elige una posicion para remplazar ['1', 'hola', '3']:1\n",
      "Escribe un string para remplazar en la posicion: s\n",
      "La lista actualmente ['1', 's', '3']\n",
      "Quiere seguir jugando?: n\n",
      "Gracias por jugar, cerrando el programa...\n"
     ]
    }
   ],
   "source": [
    "def cambiar_car(l,pos):\n",
    "    \n",
    "    cadena = input(\"Escribe un string para remplazar en la posicion: \")\n",
    "    l[pos] = cadena\n",
    "    \n",
    "    return l\n",
    "    \n",
    "def inicializar(l,pos):\n",
    "    \n",
    "    pos = int(input(f\"Elige una posicion para remplazar {l}:\"))\n",
    "    \n",
    "    while pos < 0 or pos >= len(l):\n",
    "        pos = int(input(f\"Elige una posicion para remplazar {l}:\"))\n",
    "        \n",
    "    l = cambiar_car(l,pos)\n",
    "    \n",
    "def bucle(l,pos):\n",
    "    \n",
    "    opcion = 'S'\n",
    "    \n",
    "    while opcion == 'S':\n",
    "        inicializar(l,pos)\n",
    "        print(f\"La lista actualmente {l}\")\n",
    "        opcion = input(\"Quiere seguir jugando?: \").upper()\n",
    "        \n",
    "        while opcion != 'S' and opcion != 'N':\n",
    "            print(\"Opcion no valida\")\n",
    "            opcion = input(\"Quiere seguir jugando?: \").upper()\n",
    "        \n",
    "    print(\"Gracias por jugar, cerrando el programa...\")\n",
    "    \n",
    "l = ['1','2','3']\n",
    "pos = 0\n",
    "\n",
    "bucle(l,pos)"
   ]
  },
  {
   "cell_type": "code",
   "execution_count": null,
   "metadata": {},
   "outputs": [],
   "source": []
  }
 ],
 "metadata": {
  "kernelspec": {
   "display_name": "Python 3",
   "language": "python",
   "name": "python3"
  },
  "language_info": {
   "codemirror_mode": {
    "name": "ipython",
    "version": 3
   },
   "file_extension": ".py",
   "mimetype": "text/x-python",
   "name": "python",
   "nbconvert_exporter": "python",
   "pygments_lexer": "ipython3",
   "version": "3.8.5"
  }
 },
 "nbformat": 4,
 "nbformat_minor": 4
}
