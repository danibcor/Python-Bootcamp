{
 "cells": [
  {
   "cell_type": "code",
   "execution_count": 1,
   "metadata": {},
   "outputs": [],
   "source": [
    "# Validacion de entradas del usuario"
   ]
  },
  {
   "cell_type": "code",
   "execution_count": 2,
   "metadata": {},
   "outputs": [],
   "source": [
    "# Lo que haremos es validar la entrada del usuario para evitar errores de conversiones no validas\n",
    "# para ello utilizaremos un bucle while que pedirá al usuario que ingrese un valor repetidamente cuando este no es valido"
   ]
  },
  {
   "cell_type": "code",
   "execution_count": 24,
   "metadata": {},
   "outputs": [
    {
     "name": "stdout",
     "output_type": "stream",
     "text": [
      "Numero de 1-10: 11\n",
      "El numero introducido supero el limite\n",
      "Numero de 1-10: nada\n",
      "El valor introducido no es un numero\n",
      "Numero de 1-10: 9\n"
     ]
    },
    {
     "data": {
      "text/plain": [
       "9"
      ]
     },
     "execution_count": 24,
     "metadata": {},
     "output_type": "execute_result"
    }
   ],
   "source": [
    "def limite(eleccion):\n",
    "    \n",
    "    return int(eleccion) >= 1 and int(eleccion) <= 10\n",
    "\n",
    "def eleccion_usuario():\n",
    "    \n",
    "    eleccion = \"nada\"\n",
    "    \n",
    "    while not eleccion.isdigit() or not limite(eleccion):\n",
    "        eleccion = input(\"Numero de 1-10: \")\n",
    "        \n",
    "        if not eleccion.isdigit():\n",
    "            print(\"El valor introducido no es un numero\")\n",
    "        if eleccion.isdigit() and not limite(eleccion):\n",
    "            print(\"El numero introducido supero el limite\")\n",
    "        \n",
    "    return int(eleccion)\n",
    "        \n",
    "eleccion_usuario()"
   ]
  },
  {
   "cell_type": "code",
   "execution_count": 25,
   "metadata": {},
   "outputs": [
    {
     "name": "stdout",
     "output_type": "stream",
     "text": [
      "El numero 20 aparece en la palabra\n"
     ]
    }
   ],
   "source": [
    "lista_numeros = [1,20,3]\n",
    "\n",
    "palabra = \"Tengo 20 euros\"\n",
    "\n",
    "for i in lista_numeros:\n",
    "    if str(i) in palabra:\n",
    "        print(f\"El numero {i} aparece en la palabra\")\n",
    "    else:\n",
    "        pass\n",
    "    "
   ]
  },
  {
   "cell_type": "code",
   "execution_count": null,
   "metadata": {},
   "outputs": [],
   "source": []
  }
 ],
 "metadata": {
  "kernelspec": {
   "display_name": "Python 3",
   "language": "python",
   "name": "python3"
  },
  "language_info": {
   "codemirror_mode": {
    "name": "ipython",
    "version": 3
   },
   "file_extension": ".py",
   "mimetype": "text/x-python",
   "name": "python",
   "nbconvert_exporter": "python",
   "pygments_lexer": "ipython3",
   "version": "3.8.5"
  }
 },
 "nbformat": 4,
 "nbformat_minor": 4
}
