{
 "cells": [
  {
   "cell_type": "code",
   "execution_count": 1,
   "metadata": {},
   "outputs": [],
   "source": [
    "# Aceptar entradas del usuario"
   ]
  },
  {
   "cell_type": "code",
   "execution_count": 2,
   "metadata": {},
   "outputs": [
    {
     "name": "stdout",
     "output_type": "stream",
     "text": [
      "Posicion a elegir: 2\n",
      "3\n"
     ]
    }
   ],
   "source": [
    "fil1 = ['1','2','3']\n",
    "\n",
    "indice_posicion = int(input(\"Posicion a elegir: \"))\n",
    "print(fil1[indice_posicion])\n",
    "\n",
    "# En siguientes lectras veremos como verificar la entrada del usuario\n",
    "# para asegurarnos de que sea valido antes de intentar convertirlo en un numero entero por ejemplo\n",
    "\n",
    "# Tambien tener en cuenta que la funcion input puede ser un poco complicada porque esta espera la interaccion del usuario\n",
    "# lo que significa que si la ejecuta accidentalmente 2 veces, el programa puede atascarse esperando una respuesta que no vemos\n",
    "# En el caso de que suceda lo que haremos en Jupyter es reiniciar el kernel pero todas las variables anteriores se borraran, tendremos que ejecutarlas de nuevo\n",
    "\n"
   ]
  },
  {
   "cell_type": "code",
   "execution_count": null,
   "metadata": {},
   "outputs": [],
   "source": []
  }
 ],
 "metadata": {
  "kernelspec": {
   "display_name": "Python 3",
   "language": "python",
   "name": "python3"
  },
  "language_info": {
   "codemirror_mode": {
    "name": "ipython",
    "version": 3
   },
   "file_extension": ".py",
   "mimetype": "text/x-python",
   "name": "python",
   "nbconvert_exporter": "python",
   "pygments_lexer": "ipython3",
   "version": "3.8.5"
  }
 },
 "nbformat": 4,
 "nbformat_minor": 4
}
