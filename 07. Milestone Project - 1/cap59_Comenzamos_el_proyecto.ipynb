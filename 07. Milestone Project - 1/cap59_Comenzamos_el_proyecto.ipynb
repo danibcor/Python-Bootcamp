{
 "cells": [
  {
   "cell_type": "code",
   "execution_count": 1,
   "metadata": {},
   "outputs": [],
   "source": [
    "# Ejercicios de calentamiento para realizar un proyecto"
   ]
  },
  {
   "cell_type": "code",
   "execution_count": 2,
   "metadata": {},
   "outputs": [],
   "source": [
    "# Veremos algunos ejercicios para utilizar Python para:\n",
    "# 1. Tomar las entradas de un usuario\n",
    "# 2. Manipular una variable basado en la entrada\n",
    "# 3. Devolver la variable ajustada"
   ]
  },
  {
   "cell_type": "code",
   "execution_count": 3,
   "metadata": {},
   "outputs": [],
   "source": [
    "# Primero, vamos a describir lo que hace un programa interactivo en general.\n",
    "# Debe tener algun tipo de representacion visual que vera su usuario, en este caso\n",
    "# como pretendemos hacer el juego de 3 en rayas la representacion visual podría ser el \n",
    "# el tablero. Luego para actualizar el programa el usario debe tomar algun tipo de decision e ingresar esa decision\n",
    "# en este caso la actualizacion podria ser, elegir una parte del tablero, por ejemplo la esquina superior derecha\n",
    "# Esa entrada del suuario entraria en algun tipo de funcion, luego dentro de la funcion actualizamos la variable y luego tenemos una nueva imagen para mostrar al usuario"
   ]
  },
  {
   "cell_type": "code",
   "execution_count": null,
   "metadata": {},
   "outputs": [],
   "source": []
  }
 ],
 "metadata": {
  "kernelspec": {
   "display_name": "Python 3",
   "language": "python",
   "name": "python3"
  },
  "language_info": {
   "codemirror_mode": {
    "name": "ipython",
    "version": 3
   },
   "file_extension": ".py",
   "mimetype": "text/x-python",
   "name": "python",
   "nbconvert_exporter": "python",
   "pygments_lexer": "ipython3",
   "version": "3.8.5"
  }
 },
 "nbformat": 4,
 "nbformat_minor": 4
}
