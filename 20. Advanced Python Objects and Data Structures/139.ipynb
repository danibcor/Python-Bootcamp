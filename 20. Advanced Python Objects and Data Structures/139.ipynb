{
 "cells": [
  {
   "cell_type": "code",
   "execution_count": 17,
   "metadata": {},
   "outputs": [
    {
     "name": "stdout",
     "output_type": "stream",
     "text": [
      "Introduce una frase para contar los caracteres: hola\n",
      "El caracter h aparece 1\n",
      "El caracter o aparece 1\n",
      "El caracter l aparece 1\n",
      "El caracter a aparece 1\n"
     ]
    }
   ],
   "source": [
    "# Localizacion y conteo de caracteres en un string\n",
    "\n",
    "diccionario_caracteres = {}\n",
    "\n",
    "def contador(frase):\n",
    "    \n",
    "    frase = frase.lower()\n",
    "    \n",
    "    for letra in frase:\n",
    "        if letra in diccionario_caracteres:\n",
    "            diccionario_caracteres[letra] += 1\n",
    "        else:\n",
    "            diccionario_caracteres[letra] = 1\n",
    "        \n",
    "\n",
    "s = input(\"Introduce una frase para contar los caracteres: \")\n",
    "contador(s)\n",
    "\n",
    "for llaves in diccionario_caracteres.keys():\n",
    "    print(f\"El caracter {llaves} aparece {diccionario_caracteres[llaves]}\")"
   ]
  },
  {
   "cell_type": "code",
   "execution_count": 18,
   "metadata": {},
   "outputs": [
    {
     "data": {
      "text/plain": [
       "1"
      ]
     },
     "execution_count": 18,
     "metadata": {},
     "output_type": "execute_result"
    }
   ],
   "source": [
    "s.count('a')"
   ]
  },
  {
   "cell_type": "code",
   "execution_count": 19,
   "metadata": {},
   "outputs": [
    {
     "data": {
      "text/plain": [
       "0"
      ]
     },
     "execution_count": 19,
     "metadata": {},
     "output_type": "execute_result"
    }
   ],
   "source": [
    "s.find('h') # devuelve la primera posicion en la que encuentra el caracter"
   ]
  },
  {
   "cell_type": "code",
   "execution_count": 20,
   "metadata": {},
   "outputs": [
    {
     "data": {
      "text/plain": [
       "-1"
      ]
     },
     "execution_count": 20,
     "metadata": {},
     "output_type": "execute_result"
    }
   ],
   "source": [
    "s.find('k') # No está en el string"
   ]
  },
  {
   "cell_type": "code",
   "execution_count": 21,
   "metadata": {},
   "outputs": [
    {
     "data": {
      "text/plain": [
       "False"
      ]
     },
     "execution_count": 21,
     "metadata": {},
     "output_type": "execute_result"
    }
   ],
   "source": [
    "# IS CHECK METHODS\n",
    "s = 'hola'\n",
    "\n",
    "s.isalnum() # Devuelve True si todos los caracteres de s son alfanumericos\n",
    "s.isalpha() # Devuelve True si todos los caracteres de s son alfabeticos\n",
    "s.islower() # Devuelve True si todos los caracteres de s son minuscula\n",
    "s.isspace() # Devuelve True si todos los caracteres de s son espacios en blanco"
   ]
  },
  {
   "cell_type": "code",
   "execution_count": 26,
   "metadata": {},
   "outputs": [
    {
     "data": {
      "text/plain": [
       "False"
      ]
     },
     "execution_count": 26,
     "metadata": {},
     "output_type": "execute_result"
    }
   ],
   "source": [
    "s = \"Hola buenas\"\n",
    "s.istitle() # Devuelve True si la primera letra de cada palabra de s es mayuscula"
   ]
  },
  {
   "cell_type": "code",
   "execution_count": 27,
   "metadata": {},
   "outputs": [
    {
     "data": {
      "text/plain": [
       "False"
      ]
     },
     "execution_count": 27,
     "metadata": {},
     "output_type": "execute_result"
    }
   ],
   "source": [
    "s.isupper() # Devuelve True si todos los caracteres de s son mayusculas"
   ]
  },
  {
   "cell_type": "code",
   "execution_count": 29,
   "metadata": {},
   "outputs": [
    {
     "data": {
      "text/plain": [
       "['Hol', ' buen', 's']"
      ]
     },
     "execution_count": 29,
     "metadata": {},
     "output_type": "execute_result"
    }
   ],
   "source": [
    "s.split('a') # corta la frase cuando encuentra la letra a y la divide en varias partes"
   ]
  },
  {
   "cell_type": "code",
   "execution_count": 31,
   "metadata": {},
   "outputs": [
    {
     "data": {
      "text/plain": [
       "('Hol', 'a', ' buenas')"
      ]
     },
     "execution_count": 31,
     "metadata": {},
     "output_type": "execute_result"
    }
   ],
   "source": [
    "s.partition('a') # divide la frase en 2 partes cuando se encuentra el un caracter igual al introducido"
   ]
  },
  {
   "cell_type": "code",
   "execution_count": null,
   "metadata": {},
   "outputs": [],
   "source": []
  }
 ],
 "metadata": {
  "kernelspec": {
   "display_name": "Python 3",
   "language": "python",
   "name": "python3"
  },
  "language_info": {
   "codemirror_mode": {
    "name": "ipython",
    "version": 3
   },
   "file_extension": ".py",
   "mimetype": "text/x-python",
   "name": "python",
   "nbconvert_exporter": "python",
   "pygments_lexer": "ipython3",
   "version": "3.8.5"
  }
 },
 "nbformat": 4,
 "nbformat_minor": 4
}
